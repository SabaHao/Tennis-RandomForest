{
 "cells": [
  {
   "cell_type": "markdown",
   "id": "e872b22f",
   "metadata": {
    "papermill": {
     "duration": 0.011325,
     "end_time": "2024-07-15T07:37:46.449089",
     "exception": false,
     "start_time": "2024-07-15T07:37:46.437764",
     "status": "completed"
    },
    "tags": []
   },
   "source": [
    "**Predicting Tennis matches results with Random Forest algorithm**\n",
    "\n",
    "After understanding the dataset and how the tennis league I will try to predict the results of the matches."
   ]
  },
  {
   "cell_type": "code",
   "execution_count": 1,
   "id": "ddf593df",
   "metadata": {
    "_cell_guid": "b1076dfc-b9ad-4769-8c92-a6c4dae69d19",
    "_uuid": "8f2839f25d086af736a60e9eeb907d3b93b6e0e5",
    "execution": {
     "iopub.execute_input": "2024-07-15T07:37:46.470107Z",
     "iopub.status.busy": "2024-07-15T07:37:46.469628Z",
     "iopub.status.idle": "2024-07-15T07:37:47.592873Z",
     "shell.execute_reply": "2024-07-15T07:37:47.591565Z"
    },
    "papermill": {
     "duration": 1.13772,
     "end_time": "2024-07-15T07:37:47.596419",
     "exception": false,
     "start_time": "2024-07-15T07:37:46.458699",
     "status": "completed"
    },
    "tags": []
   },
   "outputs": [
    {
     "name": "stdout",
     "output_type": "stream",
     "text": [
      "/kaggle/input/atp-tennis-2000-2023daily-pull/atp_tennis.csv\n"
     ]
    }
   ],
   "source": [
    "# Import the packages I will need in the developemnt of my machine learning algorithm\n",
    "\n",
    "import numpy as np # linear algebra\n",
    "import pandas as pd # data processing, CSV file I/O (e.g. pd.read_csv)\n",
    "\n",
    "# Import the data set I downloaded and uploaded to Kaggle (\"Compact tennis dataset\")\n",
    "# After uploading and retrieve the file, I will ask teh program to output it's path, so that I will be able to import it.\n",
    "\n",
    "import os\n",
    "for dirname, _, filenames in os.walk('/kaggle/input'):\n",
    "    for filename in filenames:\n",
    "        print(os.path.join(dirname, filename))\n"
   ]
  },
  {
   "cell_type": "markdown",
   "id": "143c64b9",
   "metadata": {
    "papermill": {
     "duration": 0.010744,
     "end_time": "2024-07-15T07:37:47.616710",
     "exception": false,
     "start_time": "2024-07-15T07:37:47.605966",
     "status": "completed"
    },
    "tags": []
   },
   "source": [
    "**Showing the data for the first time**\n",
    "\n",
    "After importing the dataSet into my notebook, with the method .head() I will be able to show the first 5 rows of the DataSet, and in addittion, I will be able to take a look at the columns name, so that the develop of the algorithm will be easier.\n",
    "\n",
    "Since I have imported many .csv files, I also need to specify which file to show."
   ]
  },
  {
   "cell_type": "code",
   "execution_count": 2,
   "id": "f544307f",
   "metadata": {
    "execution": {
     "iopub.execute_input": "2024-07-15T07:37:47.646977Z",
     "iopub.status.busy": "2024-07-15T07:37:47.645548Z",
     "iopub.status.idle": "2024-07-15T07:37:48.052463Z",
     "shell.execute_reply": "2024-07-15T07:37:48.051030Z"
    },
    "papermill": {
     "duration": 0.425466,
     "end_time": "2024-07-15T07:37:48.055281",
     "exception": false,
     "start_time": "2024-07-15T07:37:47.629815",
     "status": "completed"
    },
    "tags": []
   },
   "outputs": [
    {
     "data": {
      "text/html": [
       "<div>\n",
       "<style scoped>\n",
       "    .dataframe tbody tr th:only-of-type {\n",
       "        vertical-align: middle;\n",
       "    }\n",
       "\n",
       "    .dataframe tbody tr th {\n",
       "        vertical-align: top;\n",
       "    }\n",
       "\n",
       "    .dataframe thead th {\n",
       "        text-align: right;\n",
       "    }\n",
       "</style>\n",
       "<table border=\"1\" class=\"dataframe\">\n",
       "  <thead>\n",
       "    <tr style=\"text-align: right;\">\n",
       "      <th></th>\n",
       "      <th>Tournament</th>\n",
       "      <th>Date</th>\n",
       "      <th>Series</th>\n",
       "      <th>Court</th>\n",
       "      <th>Surface</th>\n",
       "      <th>Round</th>\n",
       "      <th>Best of</th>\n",
       "      <th>Player_1</th>\n",
       "      <th>Player_2</th>\n",
       "      <th>Winner</th>\n",
       "      <th>Rank_1</th>\n",
       "      <th>Rank_2</th>\n",
       "      <th>Pts_1</th>\n",
       "      <th>Pts_2</th>\n",
       "      <th>Odd_1</th>\n",
       "      <th>Odd_2</th>\n",
       "      <th>Score</th>\n",
       "    </tr>\n",
       "  </thead>\n",
       "  <tbody>\n",
       "    <tr>\n",
       "      <th>0</th>\n",
       "      <td>Australian Hardcourt Championships</td>\n",
       "      <td>2000-01-03</td>\n",
       "      <td>International</td>\n",
       "      <td>Outdoor</td>\n",
       "      <td>Hard</td>\n",
       "      <td>1st Round</td>\n",
       "      <td>3</td>\n",
       "      <td>Dosedel S.</td>\n",
       "      <td>Ljubicic I.</td>\n",
       "      <td>Dosedel S.</td>\n",
       "      <td>63</td>\n",
       "      <td>77</td>\n",
       "      <td>-1</td>\n",
       "      <td>-1</td>\n",
       "      <td>-1.0</td>\n",
       "      <td>-1.0</td>\n",
       "      <td>6-4 6-2</td>\n",
       "    </tr>\n",
       "    <tr>\n",
       "      <th>1</th>\n",
       "      <td>Australian Hardcourt Championships</td>\n",
       "      <td>2000-01-03</td>\n",
       "      <td>International</td>\n",
       "      <td>Outdoor</td>\n",
       "      <td>Hard</td>\n",
       "      <td>1st Round</td>\n",
       "      <td>3</td>\n",
       "      <td>Clement A.</td>\n",
       "      <td>Enqvist T.</td>\n",
       "      <td>Enqvist T.</td>\n",
       "      <td>56</td>\n",
       "      <td>5</td>\n",
       "      <td>-1</td>\n",
       "      <td>-1</td>\n",
       "      <td>-1.0</td>\n",
       "      <td>-1.0</td>\n",
       "      <td>3-6 3-6</td>\n",
       "    </tr>\n",
       "    <tr>\n",
       "      <th>2</th>\n",
       "      <td>Australian Hardcourt Championships</td>\n",
       "      <td>2000-01-03</td>\n",
       "      <td>International</td>\n",
       "      <td>Outdoor</td>\n",
       "      <td>Hard</td>\n",
       "      <td>1st Round</td>\n",
       "      <td>3</td>\n",
       "      <td>Escude N.</td>\n",
       "      <td>Baccanello P.</td>\n",
       "      <td>Escude N.</td>\n",
       "      <td>40</td>\n",
       "      <td>655</td>\n",
       "      <td>-1</td>\n",
       "      <td>-1</td>\n",
       "      <td>-1.0</td>\n",
       "      <td>-1.0</td>\n",
       "      <td>6-7 7-5 6-3</td>\n",
       "    </tr>\n",
       "    <tr>\n",
       "      <th>3</th>\n",
       "      <td>Australian Hardcourt Championships</td>\n",
       "      <td>2000-01-03</td>\n",
       "      <td>International</td>\n",
       "      <td>Outdoor</td>\n",
       "      <td>Hard</td>\n",
       "      <td>1st Round</td>\n",
       "      <td>3</td>\n",
       "      <td>Knippschild J.</td>\n",
       "      <td>Federer R.</td>\n",
       "      <td>Federer R.</td>\n",
       "      <td>87</td>\n",
       "      <td>65</td>\n",
       "      <td>-1</td>\n",
       "      <td>-1</td>\n",
       "      <td>-1.0</td>\n",
       "      <td>-1.0</td>\n",
       "      <td>1-6 4-6</td>\n",
       "    </tr>\n",
       "    <tr>\n",
       "      <th>4</th>\n",
       "      <td>Australian Hardcourt Championships</td>\n",
       "      <td>2000-01-03</td>\n",
       "      <td>International</td>\n",
       "      <td>Outdoor</td>\n",
       "      <td>Hard</td>\n",
       "      <td>1st Round</td>\n",
       "      <td>3</td>\n",
       "      <td>Fromberg R.</td>\n",
       "      <td>Woodbridge T.</td>\n",
       "      <td>Fromberg R.</td>\n",
       "      <td>81</td>\n",
       "      <td>198</td>\n",
       "      <td>-1</td>\n",
       "      <td>-1</td>\n",
       "      <td>-1.0</td>\n",
       "      <td>-1.0</td>\n",
       "      <td>7-6 5-7 6-4</td>\n",
       "    </tr>\n",
       "  </tbody>\n",
       "</table>\n",
       "</div>"
      ],
      "text/plain": [
       "                           Tournament        Date         Series    Court  \\\n",
       "0  Australian Hardcourt Championships  2000-01-03  International  Outdoor   \n",
       "1  Australian Hardcourt Championships  2000-01-03  International  Outdoor   \n",
       "2  Australian Hardcourt Championships  2000-01-03  International  Outdoor   \n",
       "3  Australian Hardcourt Championships  2000-01-03  International  Outdoor   \n",
       "4  Australian Hardcourt Championships  2000-01-03  International  Outdoor   \n",
       "\n",
       "  Surface      Round  Best of        Player_1       Player_2       Winner  \\\n",
       "0    Hard  1st Round        3      Dosedel S.    Ljubicic I.   Dosedel S.   \n",
       "1    Hard  1st Round        3      Clement A.     Enqvist T.   Enqvist T.   \n",
       "2    Hard  1st Round        3       Escude N.  Baccanello P.    Escude N.   \n",
       "3    Hard  1st Round        3  Knippschild J.     Federer R.   Federer R.   \n",
       "4    Hard  1st Round        3     Fromberg R.  Woodbridge T.  Fromberg R.   \n",
       "\n",
       "   Rank_1  Rank_2  Pts_1  Pts_2  Odd_1  Odd_2        Score  \n",
       "0      63      77     -1     -1   -1.0   -1.0      6-4 6-2  \n",
       "1      56       5     -1     -1   -1.0   -1.0      3-6 3-6  \n",
       "2      40     655     -1     -1   -1.0   -1.0  6-7 7-5 6-3  \n",
       "3      87      65     -1     -1   -1.0   -1.0      1-6 4-6  \n",
       "4      81     198     -1     -1   -1.0   -1.0  7-6 5-7 6-4  "
      ]
     },
     "execution_count": 2,
     "metadata": {},
     "output_type": "execute_result"
    }
   ],
   "source": [
    "matches = pd.read_csv(\"/kaggle/input/atp-tennis-2000-2023daily-pull/atp_tennis.csv\")\n",
    "matches.head()"
   ]
  },
  {
   "cell_type": "markdown",
   "id": "fbe9c795",
   "metadata": {
    "papermill": {
     "duration": 0.010998,
     "end_time": "2024-07-15T07:37:48.080186",
     "exception": false,
     "start_time": "2024-07-15T07:37:48.069188",
     "status": "completed"
    },
    "tags": []
   },
   "source": [
    "**Understand better the Shape of the Dataset**\n",
    "\n",
    "After taking a first look at the DataSet we can take a look at the shape of it, which means how many column and rows the file actually have, in this case we start working on the DataSet when the overall shape of it it's going to be 61441 rows an 17 columns"
   ]
  },
  {
   "cell_type": "code",
   "execution_count": 3,
   "id": "70a032ee",
   "metadata": {
    "execution": {
     "iopub.execute_input": "2024-07-15T07:37:48.101259Z",
     "iopub.status.busy": "2024-07-15T07:37:48.100852Z",
     "iopub.status.idle": "2024-07-15T07:37:48.109020Z",
     "shell.execute_reply": "2024-07-15T07:37:48.107544Z"
    },
    "papermill": {
     "duration": 0.021944,
     "end_time": "2024-07-15T07:37:48.111833",
     "exception": false,
     "start_time": "2024-07-15T07:37:48.089889",
     "status": "completed"
    },
    "tags": []
   },
   "outputs": [
    {
     "data": {
      "text/plain": [
       "(63079, 17)"
      ]
     },
     "execution_count": 3,
     "metadata": {},
     "output_type": "execute_result"
    }
   ],
   "source": [
    "# Shows how many columns and row are in the dataset\n",
    "matches.shape"
   ]
  },
  {
   "cell_type": "markdown",
   "id": "da6de84d",
   "metadata": {
    "papermill": {
     "duration": 0.010062,
     "end_time": "2024-07-15T07:37:48.132452",
     "exception": false,
     "start_time": "2024-07-15T07:37:48.122390",
     "status": "completed"
    },
    "tags": []
   },
   "source": [
    "**Fixing the datatypes**\n",
    "\n",
    "For most of machine algorithm to work, they must work with integers DataType, and the Random Forest also need. So we have to convert some of the DataType from object into integer, or into some kind of integers. First of all we have to check what DataType we have in our DataSet, then we can choose the Data we want to work with, and if they are not integers already we have to convert it."
   ]
  },
  {
   "cell_type": "code",
   "execution_count": 4,
   "id": "bf4d5651",
   "metadata": {
    "execution": {
     "iopub.execute_input": "2024-07-15T07:37:48.155464Z",
     "iopub.status.busy": "2024-07-15T07:37:48.154910Z",
     "iopub.status.idle": "2024-07-15T07:37:48.201898Z",
     "shell.execute_reply": "2024-07-15T07:37:48.200437Z"
    },
    "papermill": {
     "duration": 0.062022,
     "end_time": "2024-07-15T07:37:48.204898",
     "exception": false,
     "start_time": "2024-07-15T07:37:48.142876",
     "status": "completed"
    },
    "tags": []
   },
   "outputs": [
    {
     "data": {
      "text/plain": [
       "Tournament            object\n",
       "Date                  object\n",
       "Series                object\n",
       "Court                 object\n",
       "Surface               object\n",
       "Round                 object\n",
       "Best of                int64\n",
       "Player_1              object\n",
       "Player_2              object\n",
       "Winner                object\n",
       "Rank_1                 int64\n",
       "Rank_2                 int64\n",
       "Pts_1                  int64\n",
       "Pts_2                  int64\n",
       "Odd_1                float64\n",
       "Odd_2                float64\n",
       "Score                 object\n",
       "date          datetime64[ns]\n",
       "dtype: object"
      ]
     },
     "execution_count": 4,
     "metadata": {},
     "output_type": "execute_result"
    }
   ],
   "source": [
    "# Check what DataType we have in our DataSet\n",
    "matches[\"date\"] = pd.to_datetime(matches[\"Date\"])\n",
    "matches.dtypes"
   ]
  },
  {
   "cell_type": "markdown",
   "id": "bf747948",
   "metadata": {
    "papermill": {
     "duration": 0.010441,
     "end_time": "2024-07-15T07:37:48.225899",
     "exception": false,
     "start_time": "2024-07-15T07:37:48.215458",
     "status": "completed"
    },
    "tags": []
   },
   "source": [
    "**Converting the Date type**\n",
    "\n",
    "Here I decided to only convert the Date column, but in order to increase the accuracy, in the future more columns may be converted and used in thealgorithm"
   ]
  },
  {
   "cell_type": "markdown",
   "id": "42cd55d5",
   "metadata": {
    "papermill": {
     "duration": 0.009836,
     "end_time": "2024-07-15T07:37:48.246644",
     "exception": false,
     "start_time": "2024-07-15T07:37:48.236808",
     "status": "completed"
    },
    "tags": []
   },
   "source": [
    "**Creating the Predictors**\n",
    "\n",
    "In the Random Forest algorithm, predictors, also known as features or independent variables, are the variables used to make predictions. These predictors are the characteristics or attributes of the data that are input into the algorithm to train the model and subsequently used to make predictions on new, unseen data.\n",
    "\n",
    "In the context of predicting tennis matches, our predictors will include various features related to the court type, ground type, opponent and player. Since we want to predict a new value based on the Input, we cannot use data that we dont know after the match, we cannot use the match result as predictor."
   ]
  },
  {
   "cell_type": "code",
   "execution_count": 5,
   "id": "585277de",
   "metadata": {
    "execution": {
     "iopub.execute_input": "2024-07-15T07:37:48.270241Z",
     "iopub.status.busy": "2024-07-15T07:37:48.269758Z",
     "iopub.status.idle": "2024-07-15T07:37:48.331299Z",
     "shell.execute_reply": "2024-07-15T07:37:48.330077Z"
    },
    "papermill": {
     "duration": 0.077484,
     "end_time": "2024-07-15T07:37:48.334390",
     "exception": false,
     "start_time": "2024-07-15T07:37:48.256906",
     "status": "completed"
    },
    "tags": []
   },
   "outputs": [],
   "source": [
    "# Create a new column representing the Indoor or Outdoor value\n",
    "matches[\"courtType\"] = matches[\"Court\"].astype(\"category\").cat.codes\n",
    "\n",
    "# Create a new column representing the kind of surface\n",
    "matches[\"groundType\"] = matches[\"Surface\"].astype(\"category\").cat.codes\n",
    "\n",
    "# Create a new column representing a code for each opponent\n",
    "matches[\"opponentCode\"] = matches[\"Player_2\"].astype(\"category\").cat.codes\n",
    "\n",
    "# Create a new column representing a code for each opponent\n",
    "matches[\"playerCode\"] = matches[\"Player_1\"].astype(\"category\").cat.codes\n",
    "\n",
    "\n",
    "# Create a new column representing if the player1 won the game with a 1 or if it didn't with a 0\n",
    "matches[\"target\"] = (matches[\"Winner\"] == matches[\"Player_1\"]).astype(\"int\")\n"
   ]
  },
  {
   "cell_type": "markdown",
   "id": "647316fc",
   "metadata": {
    "papermill": {
     "duration": 0.010074,
     "end_time": "2024-07-15T07:37:48.355523",
     "exception": false,
     "start_time": "2024-07-15T07:37:48.345449",
     "status": "completed"
    },
    "tags": []
   },
   "source": [
    "**Showing the dataset content**\n",
    "\n",
    "By just typing the name of the variable where I assigned the dataset we are able to have a look at all the data that are inside."
   ]
  },
  {
   "cell_type": "code",
   "execution_count": 6,
   "id": "9b1c4523",
   "metadata": {
    "execution": {
     "iopub.execute_input": "2024-07-15T07:37:48.380219Z",
     "iopub.status.busy": "2024-07-15T07:37:48.379278Z",
     "iopub.status.idle": "2024-07-15T07:37:48.463566Z",
     "shell.execute_reply": "2024-07-15T07:37:48.462084Z"
    },
    "papermill": {
     "duration": 0.100872,
     "end_time": "2024-07-15T07:37:48.466558",
     "exception": false,
     "start_time": "2024-07-15T07:37:48.365686",
     "status": "completed"
    },
    "tags": []
   },
   "outputs": [
    {
     "data": {
      "text/html": [
       "<div>\n",
       "<style scoped>\n",
       "    .dataframe tbody tr th:only-of-type {\n",
       "        vertical-align: middle;\n",
       "    }\n",
       "\n",
       "    .dataframe tbody tr th {\n",
       "        vertical-align: top;\n",
       "    }\n",
       "\n",
       "    .dataframe thead th {\n",
       "        text-align: right;\n",
       "    }\n",
       "</style>\n",
       "<table border=\"1\" class=\"dataframe\">\n",
       "  <thead>\n",
       "    <tr style=\"text-align: right;\">\n",
       "      <th></th>\n",
       "      <th>Tournament</th>\n",
       "      <th>Date</th>\n",
       "      <th>Series</th>\n",
       "      <th>Court</th>\n",
       "      <th>Surface</th>\n",
       "      <th>Round</th>\n",
       "      <th>Best of</th>\n",
       "      <th>Player_1</th>\n",
       "      <th>Player_2</th>\n",
       "      <th>Winner</th>\n",
       "      <th>...</th>\n",
       "      <th>Pts_2</th>\n",
       "      <th>Odd_1</th>\n",
       "      <th>Odd_2</th>\n",
       "      <th>Score</th>\n",
       "      <th>date</th>\n",
       "      <th>courtType</th>\n",
       "      <th>groundType</th>\n",
       "      <th>opponentCode</th>\n",
       "      <th>playerCode</th>\n",
       "      <th>target</th>\n",
       "    </tr>\n",
       "  </thead>\n",
       "  <tbody>\n",
       "    <tr>\n",
       "      <th>0</th>\n",
       "      <td>Australian Hardcourt Championships</td>\n",
       "      <td>2000-01-03</td>\n",
       "      <td>International</td>\n",
       "      <td>Outdoor</td>\n",
       "      <td>Hard</td>\n",
       "      <td>1st Round</td>\n",
       "      <td>3</td>\n",
       "      <td>Dosedel S.</td>\n",
       "      <td>Ljubicic I.</td>\n",
       "      <td>Dosedel S.</td>\n",
       "      <td>...</td>\n",
       "      <td>-1</td>\n",
       "      <td>-1.00</td>\n",
       "      <td>-1.00</td>\n",
       "      <td>6-4 6-2</td>\n",
       "      <td>2000-01-03</td>\n",
       "      <td>1</td>\n",
       "      <td>3</td>\n",
       "      <td>746</td>\n",
       "      <td>317</td>\n",
       "      <td>1</td>\n",
       "    </tr>\n",
       "    <tr>\n",
       "      <th>1</th>\n",
       "      <td>Australian Hardcourt Championships</td>\n",
       "      <td>2000-01-03</td>\n",
       "      <td>International</td>\n",
       "      <td>Outdoor</td>\n",
       "      <td>Hard</td>\n",
       "      <td>1st Round</td>\n",
       "      <td>3</td>\n",
       "      <td>Clement A.</td>\n",
       "      <td>Enqvist T.</td>\n",
       "      <td>Enqvist T.</td>\n",
       "      <td>...</td>\n",
       "      <td>-1</td>\n",
       "      <td>-1.00</td>\n",
       "      <td>-1.00</td>\n",
       "      <td>3-6 3-6</td>\n",
       "      <td>2000-01-03</td>\n",
       "      <td>1</td>\n",
       "      <td>3</td>\n",
       "      <td>355</td>\n",
       "      <td>229</td>\n",
       "      <td>0</td>\n",
       "    </tr>\n",
       "    <tr>\n",
       "      <th>2</th>\n",
       "      <td>Australian Hardcourt Championships</td>\n",
       "      <td>2000-01-03</td>\n",
       "      <td>International</td>\n",
       "      <td>Outdoor</td>\n",
       "      <td>Hard</td>\n",
       "      <td>1st Round</td>\n",
       "      <td>3</td>\n",
       "      <td>Escude N.</td>\n",
       "      <td>Baccanello P.</td>\n",
       "      <td>Escude N.</td>\n",
       "      <td>...</td>\n",
       "      <td>-1</td>\n",
       "      <td>-1.00</td>\n",
       "      <td>-1.00</td>\n",
       "      <td>6-7 7-5 6-3</td>\n",
       "      <td>2000-01-03</td>\n",
       "      <td>1</td>\n",
       "      <td>3</td>\n",
       "      <td>62</td>\n",
       "      <td>356</td>\n",
       "      <td>1</td>\n",
       "    </tr>\n",
       "    <tr>\n",
       "      <th>3</th>\n",
       "      <td>Australian Hardcourt Championships</td>\n",
       "      <td>2000-01-03</td>\n",
       "      <td>International</td>\n",
       "      <td>Outdoor</td>\n",
       "      <td>Hard</td>\n",
       "      <td>1st Round</td>\n",
       "      <td>3</td>\n",
       "      <td>Knippschild J.</td>\n",
       "      <td>Federer R.</td>\n",
       "      <td>Federer R.</td>\n",
       "      <td>...</td>\n",
       "      <td>-1</td>\n",
       "      <td>-1.00</td>\n",
       "      <td>-1.00</td>\n",
       "      <td>1-6 4-6</td>\n",
       "      <td>2000-01-03</td>\n",
       "      <td>1</td>\n",
       "      <td>3</td>\n",
       "      <td>377</td>\n",
       "      <td>646</td>\n",
       "      <td>0</td>\n",
       "    </tr>\n",
       "    <tr>\n",
       "      <th>4</th>\n",
       "      <td>Australian Hardcourt Championships</td>\n",
       "      <td>2000-01-03</td>\n",
       "      <td>International</td>\n",
       "      <td>Outdoor</td>\n",
       "      <td>Hard</td>\n",
       "      <td>1st Round</td>\n",
       "      <td>3</td>\n",
       "      <td>Fromberg R.</td>\n",
       "      <td>Woodbridge T.</td>\n",
       "      <td>Fromberg R.</td>\n",
       "      <td>...</td>\n",
       "      <td>-1</td>\n",
       "      <td>-1.00</td>\n",
       "      <td>-1.00</td>\n",
       "      <td>7-6 5-7 6-4</td>\n",
       "      <td>2000-01-03</td>\n",
       "      <td>1</td>\n",
       "      <td>3</td>\n",
       "      <td>1395</td>\n",
       "      <td>403</td>\n",
       "      <td>1</td>\n",
       "    </tr>\n",
       "    <tr>\n",
       "      <th>...</th>\n",
       "      <td>...</td>\n",
       "      <td>...</td>\n",
       "      <td>...</td>\n",
       "      <td>...</td>\n",
       "      <td>...</td>\n",
       "      <td>...</td>\n",
       "      <td>...</td>\n",
       "      <td>...</td>\n",
       "      <td>...</td>\n",
       "      <td>...</td>\n",
       "      <td>...</td>\n",
       "      <td>...</td>\n",
       "      <td>...</td>\n",
       "      <td>...</td>\n",
       "      <td>...</td>\n",
       "      <td>...</td>\n",
       "      <td>...</td>\n",
       "      <td>...</td>\n",
       "      <td>...</td>\n",
       "      <td>...</td>\n",
       "      <td>...</td>\n",
       "    </tr>\n",
       "    <tr>\n",
       "      <th>63074</th>\n",
       "      <td>Mallorca Championships</td>\n",
       "      <td>2024-06-27</td>\n",
       "      <td>ATP250</td>\n",
       "      <td>Outdoor</td>\n",
       "      <td>Grass</td>\n",
       "      <td>Quarterfinals</td>\n",
       "      <td>3</td>\n",
       "      <td>Ofner S.</td>\n",
       "      <td>Michelsen A.</td>\n",
       "      <td>Ofner S.</td>\n",
       "      <td>...</td>\n",
       "      <td>844</td>\n",
       "      <td>2.20</td>\n",
       "      <td>1.67</td>\n",
       "      <td>3-6 7-5 6-3</td>\n",
       "      <td>2024-06-27</td>\n",
       "      <td>1</td>\n",
       "      <td>2</td>\n",
       "      <td>849</td>\n",
       "      <td>951</td>\n",
       "      <td>1</td>\n",
       "    </tr>\n",
       "    <tr>\n",
       "      <th>63075</th>\n",
       "      <td>Mallorca Championships</td>\n",
       "      <td>2024-06-27</td>\n",
       "      <td>ATP250</td>\n",
       "      <td>Outdoor</td>\n",
       "      <td>Grass</td>\n",
       "      <td>Quarterfinals</td>\n",
       "      <td>3</td>\n",
       "      <td>Shelton B.</td>\n",
       "      <td>Jubb P.</td>\n",
       "      <td>Jubb P.</td>\n",
       "      <td>...</td>\n",
       "      <td>191</td>\n",
       "      <td>1.40</td>\n",
       "      <td>3.00</td>\n",
       "      <td>3-6 6-3 6-7</td>\n",
       "      <td>2024-06-27</td>\n",
       "      <td>1</td>\n",
       "      <td>2</td>\n",
       "      <td>599</td>\n",
       "      <td>1177</td>\n",
       "      <td>0</td>\n",
       "    </tr>\n",
       "    <tr>\n",
       "      <th>63076</th>\n",
       "      <td>Mallorca Championships</td>\n",
       "      <td>2024-06-28</td>\n",
       "      <td>ATP250</td>\n",
       "      <td>Outdoor</td>\n",
       "      <td>Grass</td>\n",
       "      <td>Semifinals</td>\n",
       "      <td>3</td>\n",
       "      <td>Tabilo A.</td>\n",
       "      <td>Monfils G.</td>\n",
       "      <td>Tabilo A.</td>\n",
       "      <td>...</td>\n",
       "      <td>1160</td>\n",
       "      <td>1.91</td>\n",
       "      <td>1.91</td>\n",
       "      <td>2-6 6-2 7-6</td>\n",
       "      <td>2024-06-28</td>\n",
       "      <td>1</td>\n",
       "      <td>2</td>\n",
       "      <td>874</td>\n",
       "      <td>1251</td>\n",
       "      <td>1</td>\n",
       "    </tr>\n",
       "    <tr>\n",
       "      <th>63077</th>\n",
       "      <td>Mallorca Championships</td>\n",
       "      <td>2024-06-28</td>\n",
       "      <td>ATP250</td>\n",
       "      <td>Outdoor</td>\n",
       "      <td>Grass</td>\n",
       "      <td>Semifinals</td>\n",
       "      <td>3</td>\n",
       "      <td>Jubb P.</td>\n",
       "      <td>Ofner S.</td>\n",
       "      <td>Ofner S.</td>\n",
       "      <td>...</td>\n",
       "      <td>883</td>\n",
       "      <td>2.10</td>\n",
       "      <td>1.73</td>\n",
       "      <td>4-6 5-7</td>\n",
       "      <td>2024-06-28</td>\n",
       "      <td>1</td>\n",
       "      <td>2</td>\n",
       "      <td>950</td>\n",
       "      <td>601</td>\n",
       "      <td>0</td>\n",
       "    </tr>\n",
       "    <tr>\n",
       "      <th>63078</th>\n",
       "      <td>Mallorca Championships</td>\n",
       "      <td>2024-06-29</td>\n",
       "      <td>ATP250</td>\n",
       "      <td>Outdoor</td>\n",
       "      <td>Grass</td>\n",
       "      <td>The Final</td>\n",
       "      <td>3</td>\n",
       "      <td>Tabilo A.</td>\n",
       "      <td>Ofner S.</td>\n",
       "      <td>Tabilo A.</td>\n",
       "      <td>...</td>\n",
       "      <td>883</td>\n",
       "      <td>1.67</td>\n",
       "      <td>2.20</td>\n",
       "      <td>6-3 6-4</td>\n",
       "      <td>2024-06-29</td>\n",
       "      <td>1</td>\n",
       "      <td>2</td>\n",
       "      <td>950</td>\n",
       "      <td>1251</td>\n",
       "      <td>1</td>\n",
       "    </tr>\n",
       "  </tbody>\n",
       "</table>\n",
       "<p>63079 rows × 23 columns</p>\n",
       "</div>"
      ],
      "text/plain": [
       "                               Tournament        Date         Series    Court  \\\n",
       "0      Australian Hardcourt Championships  2000-01-03  International  Outdoor   \n",
       "1      Australian Hardcourt Championships  2000-01-03  International  Outdoor   \n",
       "2      Australian Hardcourt Championships  2000-01-03  International  Outdoor   \n",
       "3      Australian Hardcourt Championships  2000-01-03  International  Outdoor   \n",
       "4      Australian Hardcourt Championships  2000-01-03  International  Outdoor   \n",
       "...                                   ...         ...            ...      ...   \n",
       "63074              Mallorca Championships  2024-06-27         ATP250  Outdoor   \n",
       "63075              Mallorca Championships  2024-06-27         ATP250  Outdoor   \n",
       "63076              Mallorca Championships  2024-06-28         ATP250  Outdoor   \n",
       "63077              Mallorca Championships  2024-06-28         ATP250  Outdoor   \n",
       "63078              Mallorca Championships  2024-06-29         ATP250  Outdoor   \n",
       "\n",
       "      Surface          Round  Best of        Player_1       Player_2  \\\n",
       "0        Hard      1st Round        3      Dosedel S.    Ljubicic I.   \n",
       "1        Hard      1st Round        3      Clement A.     Enqvist T.   \n",
       "2        Hard      1st Round        3       Escude N.  Baccanello P.   \n",
       "3        Hard      1st Round        3  Knippschild J.     Federer R.   \n",
       "4        Hard      1st Round        3     Fromberg R.  Woodbridge T.   \n",
       "...       ...            ...      ...             ...            ...   \n",
       "63074   Grass  Quarterfinals        3        Ofner S.   Michelsen A.   \n",
       "63075   Grass  Quarterfinals        3      Shelton B.        Jubb P.   \n",
       "63076   Grass     Semifinals        3       Tabilo A.     Monfils G.   \n",
       "63077   Grass     Semifinals        3         Jubb P.       Ofner S.   \n",
       "63078   Grass      The Final        3       Tabilo A.       Ofner S.   \n",
       "\n",
       "            Winner  ...  Pts_2  Odd_1  Odd_2        Score       date  \\\n",
       "0       Dosedel S.  ...     -1  -1.00  -1.00      6-4 6-2 2000-01-03   \n",
       "1       Enqvist T.  ...     -1  -1.00  -1.00      3-6 3-6 2000-01-03   \n",
       "2        Escude N.  ...     -1  -1.00  -1.00  6-7 7-5 6-3 2000-01-03   \n",
       "3       Federer R.  ...     -1  -1.00  -1.00      1-6 4-6 2000-01-03   \n",
       "4      Fromberg R.  ...     -1  -1.00  -1.00  7-6 5-7 6-4 2000-01-03   \n",
       "...            ...  ...    ...    ...    ...          ...        ...   \n",
       "63074     Ofner S.  ...    844   2.20   1.67  3-6 7-5 6-3 2024-06-27   \n",
       "63075      Jubb P.  ...    191   1.40   3.00  3-6 6-3 6-7 2024-06-27   \n",
       "63076    Tabilo A.  ...   1160   1.91   1.91  2-6 6-2 7-6 2024-06-28   \n",
       "63077     Ofner S.  ...    883   2.10   1.73      4-6 5-7 2024-06-28   \n",
       "63078    Tabilo A.  ...    883   1.67   2.20      6-3 6-4 2024-06-29   \n",
       "\n",
       "       courtType groundType opponentCode  playerCode  target  \n",
       "0              1          3          746         317       1  \n",
       "1              1          3          355         229       0  \n",
       "2              1          3           62         356       1  \n",
       "3              1          3          377         646       0  \n",
       "4              1          3         1395         403       1  \n",
       "...          ...        ...          ...         ...     ...  \n",
       "63074          1          2          849         951       1  \n",
       "63075          1          2          599        1177       0  \n",
       "63076          1          2          874        1251       1  \n",
       "63077          1          2          950         601       0  \n",
       "63078          1          2          950        1251       1  \n",
       "\n",
       "[63079 rows x 23 columns]"
      ]
     },
     "execution_count": 6,
     "metadata": {},
     "output_type": "execute_result"
    }
   ],
   "source": [
    "matches"
   ]
  },
  {
   "cell_type": "markdown",
   "id": "4584b654",
   "metadata": {
    "papermill": {
     "duration": 0.010966,
     "end_time": "2024-07-15T07:37:48.489052",
     "exception": false,
     "start_time": "2024-07-15T07:37:48.478086",
     "status": "completed"
    },
    "tags": []
   },
   "source": [
    "**Training the model**\n",
    "\n",
    "As soon as our basic predictors are created and added to the DataSet, we are able to Train our model. Training is one of the most, if not the most important part of our machine learnig algorithm, in my case, I decided to use all the data until the year 2023 as Training Data, and all the Data after the 2023 as testing data."
   ]
  },
  {
   "cell_type": "markdown",
   "id": "287775de",
   "metadata": {
    "papermill": {
     "duration": 0.010613,
     "end_time": "2024-07-15T07:37:48.510731",
     "exception": false,
     "start_time": "2024-07-15T07:37:48.500118",
     "status": "completed"
    },
    "tags": []
   },
   "source": [
    "**Random Forest algorithm**\n",
    "\n",
    "During the training phase of the Random Forest algorithm, each decision tree is trained to predict the target variable (in this case, the outcome of the tennis match) based on the subset of predictors assigned to it. The algorithm determines the importance of each predictor by measuring how much it contributes to reducing the impurity or increasing the information gain in the decision tree.\n",
    "\n",
    "When making predictions with the trained Random Forest model, the algorithm combines the predictions of all the decision trees by averaging (for regression problems) or voting (for classification problems) to generate the final prediction. Each decision tree contributes its own prediction based on the assigned subset of predictors, and the final prediction is determined by the collective wisdom of the entire ensemble.\n",
    "\n",
    "In summary, predictors in the Random Forest algorithm are the input variables that capture the relevant information and characteristics of the data used to train the model. These predictors are used by individual decision trees within the ensemble to make predictions, and the algorithm combines the predictions of all the decision trees to produce the final prediction."
   ]
  },
  {
   "cell_type": "code",
   "execution_count": 7,
   "id": "9f28ac57",
   "metadata": {
    "execution": {
     "iopub.execute_input": "2024-07-15T07:37:48.535701Z",
     "iopub.status.busy": "2024-07-15T07:37:48.534659Z",
     "iopub.status.idle": "2024-07-15T07:38:13.640658Z",
     "shell.execute_reply": "2024-07-15T07:38:13.639551Z"
    },
    "papermill": {
     "duration": 25.121851,
     "end_time": "2024-07-15T07:38:13.643542",
     "exception": false,
     "start_time": "2024-07-15T07:37:48.521691",
     "status": "completed"
    },
    "tags": []
   },
   "outputs": [
    {
     "data": {
      "text/html": [
       "<style>#sk-container-id-1 {color: black;background-color: white;}#sk-container-id-1 pre{padding: 0;}#sk-container-id-1 div.sk-toggleable {background-color: white;}#sk-container-id-1 label.sk-toggleable__label {cursor: pointer;display: block;width: 100%;margin-bottom: 0;padding: 0.3em;box-sizing: border-box;text-align: center;}#sk-container-id-1 label.sk-toggleable__label-arrow:before {content: \"▸\";float: left;margin-right: 0.25em;color: #696969;}#sk-container-id-1 label.sk-toggleable__label-arrow:hover:before {color: black;}#sk-container-id-1 div.sk-estimator:hover label.sk-toggleable__label-arrow:before {color: black;}#sk-container-id-1 div.sk-toggleable__content {max-height: 0;max-width: 0;overflow: hidden;text-align: left;background-color: #f0f8ff;}#sk-container-id-1 div.sk-toggleable__content pre {margin: 0.2em;color: black;border-radius: 0.25em;background-color: #f0f8ff;}#sk-container-id-1 input.sk-toggleable__control:checked~div.sk-toggleable__content {max-height: 200px;max-width: 100%;overflow: auto;}#sk-container-id-1 input.sk-toggleable__control:checked~label.sk-toggleable__label-arrow:before {content: \"▾\";}#sk-container-id-1 div.sk-estimator input.sk-toggleable__control:checked~label.sk-toggleable__label {background-color: #d4ebff;}#sk-container-id-1 div.sk-label input.sk-toggleable__control:checked~label.sk-toggleable__label {background-color: #d4ebff;}#sk-container-id-1 input.sk-hidden--visually {border: 0;clip: rect(1px 1px 1px 1px);clip: rect(1px, 1px, 1px, 1px);height: 1px;margin: -1px;overflow: hidden;padding: 0;position: absolute;width: 1px;}#sk-container-id-1 div.sk-estimator {font-family: monospace;background-color: #f0f8ff;border: 1px dotted black;border-radius: 0.25em;box-sizing: border-box;margin-bottom: 0.5em;}#sk-container-id-1 div.sk-estimator:hover {background-color: #d4ebff;}#sk-container-id-1 div.sk-parallel-item::after {content: \"\";width: 100%;border-bottom: 1px solid gray;flex-grow: 1;}#sk-container-id-1 div.sk-label:hover label.sk-toggleable__label {background-color: #d4ebff;}#sk-container-id-1 div.sk-serial::before {content: \"\";position: absolute;border-left: 1px solid gray;box-sizing: border-box;top: 0;bottom: 0;left: 50%;z-index: 0;}#sk-container-id-1 div.sk-serial {display: flex;flex-direction: column;align-items: center;background-color: white;padding-right: 0.2em;padding-left: 0.2em;position: relative;}#sk-container-id-1 div.sk-item {position: relative;z-index: 1;}#sk-container-id-1 div.sk-parallel {display: flex;align-items: stretch;justify-content: center;background-color: white;position: relative;}#sk-container-id-1 div.sk-item::before, #sk-container-id-1 div.sk-parallel-item::before {content: \"\";position: absolute;border-left: 1px solid gray;box-sizing: border-box;top: 0;bottom: 0;left: 50%;z-index: -1;}#sk-container-id-1 div.sk-parallel-item {display: flex;flex-direction: column;z-index: 1;position: relative;background-color: white;}#sk-container-id-1 div.sk-parallel-item:first-child::after {align-self: flex-end;width: 50%;}#sk-container-id-1 div.sk-parallel-item:last-child::after {align-self: flex-start;width: 50%;}#sk-container-id-1 div.sk-parallel-item:only-child::after {width: 0;}#sk-container-id-1 div.sk-dashed-wrapped {border: 1px dashed gray;margin: 0 0.4em 0.5em 0.4em;box-sizing: border-box;padding-bottom: 0.4em;background-color: white;}#sk-container-id-1 div.sk-label label {font-family: monospace;font-weight: bold;display: inline-block;line-height: 1.2em;}#sk-container-id-1 div.sk-label-container {text-align: center;}#sk-container-id-1 div.sk-container {/* jupyter's `normalize.less` sets `[hidden] { display: none; }` but bootstrap.min.css set `[hidden] { display: none !important; }` so we also need the `!important` here to be able to override the default hidden behavior on the sphinx rendered scikit-learn.org. See: https://github.com/scikit-learn/scikit-learn/issues/21755 */display: inline-block !important;position: relative;}#sk-container-id-1 div.sk-text-repr-fallback {display: none;}</style><div id=\"sk-container-id-1\" class=\"sk-top-container\"><div class=\"sk-text-repr-fallback\"><pre>RandomForestClassifier(min_samples_split=3, n_estimators=200, random_state=1)</pre><b>In a Jupyter environment, please rerun this cell to show the HTML representation or trust the notebook. <br />On GitHub, the HTML representation is unable to render, please try loading this page with nbviewer.org.</b></div><div class=\"sk-container\" hidden><div class=\"sk-item\"><div class=\"sk-estimator sk-toggleable\"><input class=\"sk-toggleable__control sk-hidden--visually\" id=\"sk-estimator-id-1\" type=\"checkbox\" checked><label for=\"sk-estimator-id-1\" class=\"sk-toggleable__label sk-toggleable__label-arrow\">RandomForestClassifier</label><div class=\"sk-toggleable__content\"><pre>RandomForestClassifier(min_samples_split=3, n_estimators=200, random_state=1)</pre></div></div></div></div></div>"
      ],
      "text/plain": [
       "RandomForestClassifier(min_samples_split=3, n_estimators=200, random_state=1)"
      ]
     },
     "execution_count": 7,
     "metadata": {},
     "output_type": "execute_result"
    }
   ],
   "source": [
    "# Training the machine learning model \n",
    "from sklearn.ensemble import RandomForestClassifier\n",
    "\n",
    "rf = RandomForestClassifier(n_estimators = 200, min_samples_split = 3, random_state = 1)\n",
    "\n",
    "# Divide the dataset into train and test sections\n",
    "conditionDate = matches['date'] > '2005-01-01'\n",
    "conditionDate2 = matches['date'] < '2023-10-29'\n",
    "combinedCondition = conditionDate & conditionDate2 \n",
    "train = matches[combinedCondition]\n",
    "\n",
    "test = matches[matches[\"date\"] > '2023-10-29']\n",
    "\n",
    "# A list of all the prdictors \n",
    "predictors = [\"playerCode\", \"opponentCode\", \"Rank_1\", \"Rank_2\", \"Pts_1\", \"Pts_2\", \"Odd_1\", \"Odd_2\"]\n",
    "\n",
    "# Fit the random forest model, fitting the predictors and trying to predict the target\n",
    "rf.fit(train[predictors], train[\"target\"])"
   ]
  },
  {
   "cell_type": "code",
   "execution_count": 8,
   "id": "790ffca6",
   "metadata": {
    "execution": {
     "iopub.execute_input": "2024-07-15T07:38:13.668789Z",
     "iopub.status.busy": "2024-07-15T07:38:13.667631Z",
     "iopub.status.idle": "2024-07-15T07:38:14.491473Z",
     "shell.execute_reply": "2024-07-15T07:38:14.490245Z"
    },
    "papermill": {
     "duration": 0.839639,
     "end_time": "2024-07-15T07:38:14.494541",
     "exception": false,
     "start_time": "2024-07-15T07:38:13.654902",
     "status": "completed"
    },
    "tags": []
   },
   "outputs": [
    {
     "data": {
      "image/png": "[encoded data removed]",
      "text/plain": [
       "<Figure size 800x600 with 1 Axes>"
      ]
     },
     "metadata": {},
     "output_type": "display_data"
    }
   ],
   "source": [
    "prediction = rf.predict(test[predictors])\n",
    "\n",
    "import matplotlib.pyplot as plt\n",
    "import seaborn as sns\n",
    "from sklearn.metrics import confusion_matrix\n",
    "\n",
    "cm = confusion_matrix(test['target'], prediction)\n",
    "\n",
    "plt.figure(figsize=(8, 6))\n",
    "sns.heatmap(cm, annot=True, fmt='d', cmap='Blues', cbar=False)\n",
    "plt.xlabel('Predicted')\n",
    "plt.ylabel('Actual')\n",
    "plt.title('Confusion Matrix')\n",
    "plt.show()"
   ]
  },
  {
   "cell_type": "code",
   "execution_count": 9,
   "id": "2a36a1f6",
   "metadata": {
    "execution": {
     "iopub.execute_input": "2024-07-15T07:38:14.519935Z",
     "iopub.status.busy": "2024-07-15T07:38:14.519544Z",
     "iopub.status.idle": "2024-07-15T07:38:14.694592Z",
     "shell.execute_reply": "2024-07-15T07:38:14.693238Z"
    },
    "papermill": {
     "duration": 0.190294,
     "end_time": "2024-07-15T07:38:14.697363",
     "exception": false,
     "start_time": "2024-07-15T07:38:14.507069",
     "status": "completed"
    },
    "tags": []
   },
   "outputs": [
    {
     "data": {
      "text/plain": [
       "array([[0.66666667, 0.33333333],\n",
       "       [0.51083333, 0.48916667],\n",
       "       [0.3997619 , 0.6002381 ],\n",
       "       ...,\n",
       "       [0.53741667, 0.46258333],\n",
       "       [0.50441667, 0.49558333],\n",
       "       [0.56708333, 0.43291667]])"
      ]
     },
     "execution_count": 9,
     "metadata": {},
     "output_type": "execute_result"
    }
   ],
   "source": [
    "probabilities = rf.predict_proba(test[predictors])\n",
    "probabilities"
   ]
  },
  {
   "cell_type": "markdown",
   "id": "675d4d1b",
   "metadata": {
    "papermill": {
     "duration": 0.011526,
     "end_time": "2024-07-15T07:38:14.720739",
     "exception": false,
     "start_time": "2024-07-15T07:38:14.709213",
     "status": "completed"
    },
    "tags": []
   },
   "source": [
    "**A brief explaination of the code above**\n",
    "\n",
    "Here we call the function RandomForestClassifier by passing three important values. \n",
    "\n",
    "* The first is the number of estimators, which is the number of how many decision trees are created. \n",
    "* The second is the minimum samples split, which will tell the algorithm what is the minimum number of samples in a node in order to be split further. A small number can lead to overfitting. "
   ]
  },
  {
   "cell_type": "markdown",
   "id": "7f80a54e",
   "metadata": {
    "papermill": {
     "duration": 0.011558,
     "end_time": "2024-07-15T07:38:14.744032",
     "exception": false,
     "start_time": "2024-07-15T07:38:14.732474",
     "status": "completed"
    },
    "tags": []
   },
   "source": [
    "**Getting the players Features for the First prediction**\n",
    "\n",
    "After we have all the predictors ready, we need to find out what's the actual ID of the player and the opponent, so that we can use those features to calculate our first prediction.\n",
    "\n",
    "For now since I am getting the data from a dataset here on Kaggle, I have to manually insert the player name and the opponent name, In order to get the ID for both players. \n",
    "\n",
    "Since I want to make the prediction on both sides (By predicting the result when player 1 vs player 2, and player 2 vs player 1). I need to look for the ID of the players two times, since the player and opponent ID are not always the same"
   ]
  },
  {
   "cell_type": "code",
   "execution_count": 10,
   "id": "12797fff",
   "metadata": {
    "execution": {
     "iopub.execute_input": "2024-07-15T07:38:14.769177Z",
     "iopub.status.busy": "2024-07-15T07:38:14.768781Z",
     "iopub.status.idle": "2024-07-15T07:38:14.827930Z",
     "shell.execute_reply": "2024-07-15T07:38:14.826662Z"
    },
    "papermill": {
     "duration": 0.075197,
     "end_time": "2024-07-15T07:38:14.830924",
     "exception": false,
     "start_time": "2024-07-15T07:38:14.755727",
     "status": "completed"
    },
    "tags": []
   },
   "outputs": [
    {
     "name": "stdout",
     "output_type": "stream",
     "text": [
      "ID for PLAYER: Murray A.\n",
      "906\n",
      "ID for OPPONENT: Paire B.\n",
      "972\n",
      " \n",
      "CHANGE OF PLAYERS\n",
      " \n",
      "ID for PLAYER: Paire B.\n",
      "975\n",
      "ID for OPPONENT: Murray A.\n",
      "901\n"
     ]
    }
   ],
   "source": [
    "firstPlayer = \"Murray A.\"\n",
    "firstOpponent = \"Paire B.\"\n",
    "\n",
    "rows = matches.loc[matches[\"Player_1\"] == firstPlayer, \"playerCode\"]\n",
    "if not rows.empty:\n",
    "    print(\"ID for PLAYER:\", firstPlayer)\n",
    "    print(rows.iloc[0])\n",
    "else:\n",
    "    print(\"Player not found in the dataset.\")\n",
    "\n",
    "rows = matches.loc[matches[\"Player_2\"] == firstOpponent, \"opponentCode\"]\n",
    "if not rows.empty:\n",
    "    print(\"ID for OPPONENT:\", firstOpponent)\n",
    "    print(rows.iloc[0])\n",
    "else:\n",
    "    print(\"Player not found in the dataset.\")\n",
    "\n",
    "# Change the Player and opponent \n",
    "print(\" \")\n",
    "print(\"CHANGE OF PLAYERS\")\n",
    "print(\" \")\n",
    "\n",
    "secondPlayer = firstOpponent\n",
    "secondOpponent = firstPlayer\n",
    "    \n",
    "rows = matches.loc[matches[\"Player_1\"] == secondPlayer, \"playerCode\"]\n",
    "if not rows.empty:\n",
    "    print(\"ID for PLAYER:\", secondPlayer)\n",
    "    print(rows.iloc[0])\n",
    "else:\n",
    "    print(\"Player not found in the dataset.\")\n",
    "\n",
    "rows = matches.loc[matches[\"Player_2\"] == secondOpponent, \"opponentCode\"]\n",
    "if not rows.empty:\n",
    "    print(\"ID for OPPONENT:\", secondOpponent)\n",
    "    print(rows.iloc[0])\n",
    "else:\n",
    "    print(\"Player not found in the dataset.\")"
   ]
  },
  {
   "cell_type": "markdown",
   "id": "1af63c9a",
   "metadata": {
    "papermill": {
     "duration": 0.011518,
     "end_time": "2024-07-15T07:38:14.854641",
     "exception": false,
     "start_time": "2024-07-15T07:38:14.843123",
     "status": "completed"
    },
    "tags": []
   },
   "source": [
    "**Getting the first prediction**\n",
    "\n",
    "As soon as we know all the feature we need (predictors) we can use it to calculate the first prediction using the trained set. We will predict the result two times, where we will exchange the target from the first to the second player, if we get one win and one loose then we have more confidence on our prediction."
   ]
  },
  {
   "cell_type": "code",
   "execution_count": 11,
   "id": "ef817d08",
   "metadata": {
    "execution": {
     "iopub.execute_input": "2024-07-15T07:38:14.881325Z",
     "iopub.status.busy": "2024-07-15T07:38:14.880303Z",
     "iopub.status.idle": "2024-07-15T07:38:14.928452Z",
     "shell.execute_reply": "2024-07-15T07:38:14.927331Z"
    },
    "papermill": {
     "duration": 0.064554,
     "end_time": "2024-07-15T07:38:14.931384",
     "exception": false,
     "start_time": "2024-07-15T07:38:14.866830",
     "status": "completed"
    },
    "tags": []
   },
   "outputs": [
    {
     "name": "stdout",
     "output_type": "stream",
     "text": [
      "Murray A. win result is: 1\n",
      "Paire B. win result is: 0\n"
     ]
    }
   ],
   "source": [
    "# First Data\n",
    "firstPlayerCode = 892\n",
    "firstOpponentCode = 954\n",
    "firstPlayerRank = 49\n",
    "firstPlayerPoints = 970\n",
    "firstPlayerOdds = 1.30\n",
    "\n",
    "# Second Data\n",
    "secondPlayerCode = 959\n",
    "secondOpponentCode = 885\n",
    "secondPlayerRank = 112\n",
    "secondPlayerPoints = 551\n",
    "secondPlayerOdds = 2.60\n",
    "\n",
    "firstData = {\n",
    "    \"playerCode\": firstPlayerCode,\n",
    "    \"opponentCode\": firstOpponentCode,\n",
    "    \"Rank_1\": firstPlayerRank, \n",
    "    \"Rank_2\": secondPlayerRank, \n",
    "    \"Pts_1\": firstPlayerPoints, \n",
    "    \"Pts_2\": secondPlayerPoints, \n",
    "    \"Odd_1\": firstPlayerOdds, \n",
    "    \"Odd_2\": secondPlayerOdds\n",
    "}\n",
    "\n",
    "secondData = {\n",
    "    \"playerCode\": secondPlayerCode,\n",
    "    \"opponentCode\": secondOpponentCode,\n",
    "    \"Rank_1\": secondPlayerRank, \n",
    "    \"Rank_2\": firstPlayerRank, \n",
    "    \"Pts_1\": secondPlayerPoints, \n",
    "    \"Pts_2\": firstPlayerPoints, \n",
    "    \"Odd_1\": secondPlayerOdds, \n",
    "    \"Odd_2\": firstPlayerOdds\n",
    "}\n",
    "\n",
    "\n",
    "# Convert firstData to a DataFrame with a single row\n",
    "firstData_df = pd.DataFrame([firstData])\n",
    "secondData_df = pd.DataFrame([secondData])\n",
    "\n",
    "# Extract predictors in the same order as used during training\n",
    "firstDataInput = firstData_df[predictors]\n",
    "secondDataInput = secondData_df[predictors]\n",
    "\n",
    "# Make predictions\n",
    "prediction = rf.predict(firstDataInput)\n",
    "\n",
    "\n",
    "# Make a prediction on the new data\n",
    "print(f\"{firstPlayer} win result is: {prediction[0]}\")\n",
    "prediction = rf.predict(secondDataInput)\n",
    "print(f\"{secondPlayer} win result is: {prediction[0]}\")"
   ]
  },
  {
   "cell_type": "code",
   "execution_count": 12,
   "id": "f8034645",
   "metadata": {
    "execution": {
     "iopub.execute_input": "2024-07-15T07:38:14.956545Z",
     "iopub.status.busy": "2024-07-15T07:38:14.956030Z",
     "iopub.status.idle": "2024-07-15T07:38:15.000624Z",
     "shell.execute_reply": "2024-07-15T07:38:14.999046Z"
    },
    "papermill": {
     "duration": 0.060847,
     "end_time": "2024-07-15T07:38:15.003886",
     "exception": false,
     "start_time": "2024-07-15T07:38:14.943039",
     "status": "completed"
    },
    "tags": []
   },
   "outputs": [
    {
     "name": "stdout",
     "output_type": "stream",
     "text": [
      "Murray A. probability is: [[0.31458333 0.68541667]]\n",
      "Paire B. probability is: [[0.7675 0.2325]]\n"
     ]
    }
   ],
   "source": [
    "probabilityPlayerOne = rf.predict_proba(firstDataInput)\n",
    "print(f\"{firstPlayer} probability is: {probabilityPlayerOne}\")\n",
    "\n",
    "probabilityPlayerTwo = rf.predict_proba(secondDataInput)\n",
    "print(f\"{secondPlayer} probability is: {probabilityPlayerTwo}\")"
   ]
  },
  {
   "cell_type": "code",
   "execution_count": 13,
   "id": "e07d78dd",
   "metadata": {
    "execution": {
     "iopub.execute_input": "2024-07-15T07:38:15.030334Z",
     "iopub.status.busy": "2024-07-15T07:38:15.029856Z",
     "iopub.status.idle": "2024-07-15T07:38:15.037664Z",
     "shell.execute_reply": "2024-07-15T07:38:15.036534Z"
    },
    "papermill": {
     "duration": 0.023993,
     "end_time": "2024-07-15T07:38:15.040139",
     "exception": false,
     "start_time": "2024-07-15T07:38:15.016146",
     "status": "completed"
    },
    "tags": []
   },
   "outputs": [
    {
     "data": {
      "text/plain": [
       "(1, 2)"
      ]
     },
     "execution_count": 13,
     "metadata": {},
     "output_type": "execute_result"
    }
   ],
   "source": [
    "probabilityPlayerOne.shape"
   ]
  },
  {
   "cell_type": "code",
   "execution_count": 14,
   "id": "003fd564",
   "metadata": {
    "execution": {
     "iopub.execute_input": "2024-07-15T07:38:15.065854Z",
     "iopub.status.busy": "2024-07-15T07:38:15.064882Z",
     "iopub.status.idle": "2024-07-15T07:38:15.073323Z",
     "shell.execute_reply": "2024-07-15T07:38:15.072033Z"
    },
    "papermill": {
     "duration": 0.02385,
     "end_time": "2024-07-15T07:38:15.075687",
     "exception": false,
     "start_time": "2024-07-15T07:38:15.051837",
     "status": "completed"
    },
    "tags": []
   },
   "outputs": [
    {
     "data": {
      "text/plain": [
       "0.7264583333333332"
      ]
     },
     "execution_count": 14,
     "metadata": {},
     "output_type": "execute_result"
    }
   ],
   "source": [
    "confidence = ((probabilityPlayerOne[0, 1] + probabilityPlayerTwo[0, 0]) / 2)\n",
    "confidence"
   ]
  },
  {
   "cell_type": "markdown",
   "id": "97997932",
   "metadata": {
    "papermill": {
     "duration": 0.01128,
     "end_time": "2024-07-15T07:38:15.098686",
     "exception": false,
     "start_time": "2024-07-15T07:38:15.087406",
     "status": "completed"
    },
    "tags": []
   },
   "source": [
    "**Getting the players Features for the Second prediction**\n",
    "\n",
    "After we have all the predictors ready, we need to find out what's the actual ID of the player and the opponent, so that we can use those features to calculate our first prediction"
   ]
  },
  {
   "cell_type": "markdown",
   "id": "a4fc9b8b",
   "metadata": {
    "papermill": {
     "duration": 0.011435,
     "end_time": "2024-07-15T07:38:15.121785",
     "exception": false,
     "start_time": "2024-07-15T07:38:15.110350",
     "status": "completed"
    },
    "tags": []
   },
   "source": [
    "**Accuracy**\n",
    "\n",
    "Our first acccuracy is actually pretty good, but we have to remember that this accuracy isn't just the winning case accuracy, but it's going to reflect also the loose and draw case. We will have to chance the method of calculation for the accuracy"
   ]
  },
  {
   "cell_type": "code",
   "execution_count": 15,
   "id": "6afa42a0",
   "metadata": {
    "execution": {
     "iopub.execute_input": "2024-07-15T07:38:15.147251Z",
     "iopub.status.busy": "2024-07-15T07:38:15.146797Z",
     "iopub.status.idle": "2024-07-15T07:38:15.347235Z",
     "shell.execute_reply": "2024-07-15T07:38:15.345926Z"
    },
    "papermill": {
     "duration": 0.216875,
     "end_time": "2024-07-15T07:38:15.350247",
     "exception": false,
     "start_time": "2024-07-15T07:38:15.133372",
     "status": "completed"
    },
    "tags": []
   },
   "outputs": [],
   "source": [
    "# Generate prediction, passing the test data and the predictors\n",
    "preds = rf.predict(test[predictors])\n",
    "\n",
    "# Need to describe the accuracy\n",
    "from sklearn.metrics import accuracy_score\n",
    "\n",
    "# Calculate the accuracy passing the test data, with the predictors and the prediction\n",
    "acc = accuracy_score(test[\"target\"], preds)"
   ]
  },
  {
   "cell_type": "code",
   "execution_count": 16,
   "id": "903cc821",
   "metadata": {
    "execution": {
     "iopub.execute_input": "2024-07-15T07:38:15.376620Z",
     "iopub.status.busy": "2024-07-15T07:38:15.376138Z",
     "iopub.status.idle": "2024-07-15T07:38:15.384207Z",
     "shell.execute_reply": "2024-07-15T07:38:15.382819Z"
    },
    "papermill": {
     "duration": 0.02467,
     "end_time": "2024-07-15T07:38:15.387222",
     "exception": false,
     "start_time": "2024-07-15T07:38:15.362552",
     "status": "completed"
    },
    "tags": []
   },
   "outputs": [
    {
     "data": {
      "text/plain": [
       "0.6813186813186813"
      ]
     },
     "execution_count": 16,
     "metadata": {},
     "output_type": "execute_result"
    }
   ],
   "source": [
    "acc"
   ]
  }
 ],
 "metadata": {
  "kaggle": {
   "accelerator": "none",
   "dataSources": [
    {
     "datasetId": 3238822,
     "sourceId": 8950700,
     "sourceType": "datasetVersion"
    }
   ],
   "dockerImageVersionId": 30558,
   "isGpuEnabled": false,
   "isInternetEnabled": true,
   "language": "python",
   "sourceType": "notebook"
  },
  "kernelspec": {
   "display_name": "Python 3",
   "language": "python",
   "name": "python3"
  },
  "language_info": {
   "codemirror_mode": {
    "name": "ipython",
    "version": 3
   },
   "file_extension": ".py",
   "mimetype": "text/x-python",
   "name": "python",
   "nbconvert_exporter": "python",
   "pygments_lexer": "ipython3",
   "version": "3.10.12"
  },
  "papermill": {
   "default_parameters": {},
   "duration": 34.815788,
   "end_time": "2024-07-15T07:38:16.324756",
   "environment_variables": {},
   "exception": null,
   "input_path": "__notebook__.ipynb",
   "output_path": "__notebook__.ipynb",
   "parameters": {},
   "start_time": "2024-07-15T07:37:41.508968",
   "version": "2.4.0"
  }
 },
 "nbformat": 4,
 "nbformat_minor": 5
}
