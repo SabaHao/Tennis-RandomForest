{
 "cells": [
  {
   "cell_type": "markdown",
   "id": "a698a6d0",
   "metadata": {
    "papermill": {
     "duration": 0.008522,
     "end_time": "2023-11-06T06:41:29.437263",
     "exception": false,
     "start_time": "2023-11-06T06:41:29.428741",
     "status": "completed"
    },
    "tags": []
   },
   "source": [
    "**Predicting Tennis matches results with Random Forest algorithm**\n",
    "\n",
    "After understanding the dataset and how the tennis league I will try to predict the results of the matches."
   ]
  },
  {
   "cell_type": "code",
   "execution_count": 1,
   "id": "628c367d",
   "metadata": {
    "_cell_guid": "b1076dfc-b9ad-4769-8c92-a6c4dae69d19",
    "_uuid": "8f2839f25d086af736a60e9eeb907d3b93b6e0e5",
    "execution": {
     "iopub.execute_input": "2023-11-06T06:41:29.455257Z",
     "iopub.status.busy": "2023-11-06T06:41:29.454873Z",
     "iopub.status.idle": "2023-11-06T06:41:29.890581Z",
     "shell.execute_reply": "2023-11-06T06:41:29.889460Z"
    },
    "papermill": {
     "duration": 0.448803,
     "end_time": "2023-11-06T06:41:29.894129",
     "exception": false,
     "start_time": "2023-11-06T06:41:29.445326",
     "status": "completed"
    },
    "tags": []
   },
   "outputs": [
    {
     "name": "stdout",
     "output_type": "stream",
     "text": [
      "/kaggle/input/atp-tennis-2000-2023daily-pull/atp_tennis.csv\n"
     ]
    }
   ],
   "source": [
    "# Import the packages I will need in the developemnt of my machine learning algorithm\n",
    "\n",
    "import numpy as np # linear algebra\n",
    "import pandas as pd # data processing, CSV file I/O (e.g. pd.read_csv)\n",
    "\n",
    "# Import the data set I downloaded and uploaded to Kaggle (\"Compact tennis dataset\")\n",
    "# After uploading and retrieve the file, I will ask teh program to output it's path, so that I will be able to import it.\n",
    "\n",
    "import os\n",
    "for dirname, _, filenames in os.walk('/kaggle/input'):\n",
    "    for filename in filenames:\n",
    "        print(os.path.join(dirname, filename))\n"
   ]
  },
  {
   "cell_type": "markdown",
   "id": "90041ab3",
   "metadata": {
    "papermill": {
     "duration": 0.007643,
     "end_time": "2023-11-06T06:41:29.909845",
     "exception": false,
     "start_time": "2023-11-06T06:41:29.902202",
     "status": "completed"
    },
    "tags": []
   },
   "source": [
    "**Showing the data for the first time**\n",
    "\n",
    "After importing the dataSets into my notebook, with the method .head() I will be able to show the first 5 rows of the DataSet, and in addittion, I will be able to take a look at the columns name, so that the develop of the algorithm will be easier.\n",
    "\n",
    "Since I have imported many .csv files, I also need to specify which file to show."
   ]
  },
  {
   "cell_type": "code",
   "execution_count": 2,
   "id": "b9e47252",
   "metadata": {
    "execution": {
     "iopub.execute_input": "2023-11-06T06:41:29.927478Z",
     "iopub.status.busy": "2023-11-06T06:41:29.926922Z",
     "iopub.status.idle": "2023-11-06T06:41:30.284068Z",
     "shell.execute_reply": "2023-11-06T06:41:30.283038Z"
    },
    "papermill": {
     "duration": 0.368977,
     "end_time": "2023-11-06T06:41:30.286661",
     "exception": false,
     "start_time": "2023-11-06T06:41:29.917684",
     "status": "completed"
    },
    "tags": []
   },
   "outputs": [
    {
     "data": {
      "text/html": [
       "<div>\n",
       "<style scoped>\n",
       "    .dataframe tbody tr th:only-of-type {\n",
       "        vertical-align: middle;\n",
       "    }\n",
       "\n",
       "    .dataframe tbody tr th {\n",
       "        vertical-align: top;\n",
       "    }\n",
       "\n",
       "    .dataframe thead th {\n",
       "        text-align: right;\n",
       "    }\n",
       "</style>\n",
       "<table border=\"1\" class=\"dataframe\">\n",
       "  <thead>\n",
       "    <tr style=\"text-align: right;\">\n",
       "      <th></th>\n",
       "      <th>Tournament</th>\n",
       "      <th>Date</th>\n",
       "      <th>Series</th>\n",
       "      <th>Court</th>\n",
       "      <th>Surface</th>\n",
       "      <th>Round</th>\n",
       "      <th>Best of</th>\n",
       "      <th>Player_1</th>\n",
       "      <th>Player_2</th>\n",
       "      <th>Winner</th>\n",
       "      <th>Rank_1</th>\n",
       "      <th>Rank_2</th>\n",
       "      <th>Pts_1</th>\n",
       "      <th>Pts_2</th>\n",
       "      <th>Odd_1</th>\n",
       "      <th>Odd_2</th>\n",
       "      <th>Score</th>\n",
       "    </tr>\n",
       "  </thead>\n",
       "  <tbody>\n",
       "    <tr>\n",
       "      <th>0</th>\n",
       "      <td>Australian Hardcourt Championships</td>\n",
       "      <td>2000-01-03</td>\n",
       "      <td>International</td>\n",
       "      <td>Outdoor</td>\n",
       "      <td>Hard</td>\n",
       "      <td>1st Round</td>\n",
       "      <td>3</td>\n",
       "      <td>Dosedel S.</td>\n",
       "      <td>Ljubicic I.</td>\n",
       "      <td>Dosedel S.</td>\n",
       "      <td>63</td>\n",
       "      <td>77</td>\n",
       "      <td>-1</td>\n",
       "      <td>-1</td>\n",
       "      <td>-1.0</td>\n",
       "      <td>-1.0</td>\n",
       "      <td>6-4 6-2</td>\n",
       "    </tr>\n",
       "    <tr>\n",
       "      <th>1</th>\n",
       "      <td>Australian Hardcourt Championships</td>\n",
       "      <td>2000-01-03</td>\n",
       "      <td>International</td>\n",
       "      <td>Outdoor</td>\n",
       "      <td>Hard</td>\n",
       "      <td>1st Round</td>\n",
       "      <td>3</td>\n",
       "      <td>Clement A.</td>\n",
       "      <td>Enqvist T.</td>\n",
       "      <td>Enqvist T.</td>\n",
       "      <td>56</td>\n",
       "      <td>5</td>\n",
       "      <td>-1</td>\n",
       "      <td>-1</td>\n",
       "      <td>-1.0</td>\n",
       "      <td>-1.0</td>\n",
       "      <td>3-6 3-6</td>\n",
       "    </tr>\n",
       "    <tr>\n",
       "      <th>2</th>\n",
       "      <td>Australian Hardcourt Championships</td>\n",
       "      <td>2000-01-03</td>\n",
       "      <td>International</td>\n",
       "      <td>Outdoor</td>\n",
       "      <td>Hard</td>\n",
       "      <td>1st Round</td>\n",
       "      <td>3</td>\n",
       "      <td>Escude N.</td>\n",
       "      <td>Baccanello P.</td>\n",
       "      <td>Escude N.</td>\n",
       "      <td>40</td>\n",
       "      <td>655</td>\n",
       "      <td>-1</td>\n",
       "      <td>-1</td>\n",
       "      <td>-1.0</td>\n",
       "      <td>-1.0</td>\n",
       "      <td>6-7 7-5 6-3</td>\n",
       "    </tr>\n",
       "    <tr>\n",
       "      <th>3</th>\n",
       "      <td>Australian Hardcourt Championships</td>\n",
       "      <td>2000-01-03</td>\n",
       "      <td>International</td>\n",
       "      <td>Outdoor</td>\n",
       "      <td>Hard</td>\n",
       "      <td>1st Round</td>\n",
       "      <td>3</td>\n",
       "      <td>Knippschild J.</td>\n",
       "      <td>Federer R.</td>\n",
       "      <td>Federer R.</td>\n",
       "      <td>87</td>\n",
       "      <td>65</td>\n",
       "      <td>-1</td>\n",
       "      <td>-1</td>\n",
       "      <td>-1.0</td>\n",
       "      <td>-1.0</td>\n",
       "      <td>1-6 4-6</td>\n",
       "    </tr>\n",
       "    <tr>\n",
       "      <th>4</th>\n",
       "      <td>Australian Hardcourt Championships</td>\n",
       "      <td>2000-01-03</td>\n",
       "      <td>International</td>\n",
       "      <td>Outdoor</td>\n",
       "      <td>Hard</td>\n",
       "      <td>1st Round</td>\n",
       "      <td>3</td>\n",
       "      <td>Fromberg R.</td>\n",
       "      <td>Woodbridge T.</td>\n",
       "      <td>Fromberg R.</td>\n",
       "      <td>81</td>\n",
       "      <td>198</td>\n",
       "      <td>-1</td>\n",
       "      <td>-1</td>\n",
       "      <td>-1.0</td>\n",
       "      <td>-1.0</td>\n",
       "      <td>7-6 5-7 6-4</td>\n",
       "    </tr>\n",
       "  </tbody>\n",
       "</table>\n",
       "</div>"
      ],
      "text/plain": [
       "                           Tournament        Date         Series    Court  \\\n",
       "0  Australian Hardcourt Championships  2000-01-03  International  Outdoor   \n",
       "1  Australian Hardcourt Championships  2000-01-03  International  Outdoor   \n",
       "2  Australian Hardcourt Championships  2000-01-03  International  Outdoor   \n",
       "3  Australian Hardcourt Championships  2000-01-03  International  Outdoor   \n",
       "4  Australian Hardcourt Championships  2000-01-03  International  Outdoor   \n",
       "\n",
       "  Surface      Round  Best of        Player_1       Player_2       Winner  \\\n",
       "0    Hard  1st Round        3      Dosedel S.    Ljubicic I.   Dosedel S.   \n",
       "1    Hard  1st Round        3      Clement A.     Enqvist T.   Enqvist T.   \n",
       "2    Hard  1st Round        3       Escude N.  Baccanello P.    Escude N.   \n",
       "3    Hard  1st Round        3  Knippschild J.     Federer R.   Federer R.   \n",
       "4    Hard  1st Round        3     Fromberg R.  Woodbridge T.  Fromberg R.   \n",
       "\n",
       "   Rank_1  Rank_2  Pts_1  Pts_2  Odd_1  Odd_2           Score  \n",
       "0      63      77     -1     -1   -1.0   -1.0     6-4 6-2      \n",
       "1      56       5     -1     -1   -1.0   -1.0     3-6 3-6      \n",
       "2      40     655     -1     -1   -1.0   -1.0  6-7 7-5 6-3     \n",
       "3      87      65     -1     -1   -1.0   -1.0     1-6 4-6      \n",
       "4      81     198     -1     -1   -1.0   -1.0  7-6 5-7 6-4     "
      ]
     },
     "execution_count": 2,
     "metadata": {},
     "output_type": "execute_result"
    }
   ],
   "source": [
    "matches = pd.read_csv(\"/kaggle/input/atp-tennis-2000-2023daily-pull/atp_tennis.csv\")\n",
    "matches.head()"
   ]
  },
  {
   "cell_type": "markdown",
   "id": "cb02b611",
   "metadata": {
    "papermill": {
     "duration": 0.008545,
     "end_time": "2023-11-06T06:41:30.303560",
     "exception": false,
     "start_time": "2023-11-06T06:41:30.295015",
     "status": "completed"
    },
    "tags": []
   },
   "source": [
    "**Understand better the Shape of the Dataset**\n",
    "\n",
    "After taking a first look at the DataSet we can take a look at the shape of it, which means how many column and rows the file actually have, in this case we start working on the DataSet when the overall shape of it it's going to be 61441 rows an 17 columns"
   ]
  },
  {
   "cell_type": "code",
   "execution_count": 3,
   "id": "d531add9",
   "metadata": {
    "execution": {
     "iopub.execute_input": "2023-11-06T06:41:30.323518Z",
     "iopub.status.busy": "2023-11-06T06:41:30.322856Z",
     "iopub.status.idle": "2023-11-06T06:41:30.328637Z",
     "shell.execute_reply": "2023-11-06T06:41:30.327514Z"
    },
    "papermill": {
     "duration": 0.017966,
     "end_time": "2023-11-06T06:41:30.330857",
     "exception": false,
     "start_time": "2023-11-06T06:41:30.312891",
     "status": "completed"
    },
    "tags": []
   },
   "outputs": [
    {
     "data": {
      "text/plain": [
       "(61441, 17)"
      ]
     },
     "execution_count": 3,
     "metadata": {},
     "output_type": "execute_result"
    }
   ],
   "source": [
    "# Shows how many columns and row are in the dataset\n",
    "matches.shape"
   ]
  },
  {
   "cell_type": "markdown",
   "id": "46fd77b2",
   "metadata": {
    "papermill": {
     "duration": 0.008614,
     "end_time": "2023-11-06T06:41:30.347956",
     "exception": false,
     "start_time": "2023-11-06T06:41:30.339342",
     "status": "completed"
    },
    "tags": []
   },
   "source": [
    "**Fixing the datatypes**\n",
    "\n",
    "For most of machine algorithm to work, they must work with integers DataType, and the Random Forest also need. So we have to convert some of the DataType from object into integer, or into some kind of integers. First of all we have to check what DataType we have in our DataSet, then we can choose the Data we want to work with, and if they are not integers already we have to convert it."
   ]
  },
  {
   "cell_type": "code",
   "execution_count": 4,
   "id": "b611920d",
   "metadata": {
    "execution": {
     "iopub.execute_input": "2023-11-06T06:41:30.366903Z",
     "iopub.status.busy": "2023-11-06T06:41:30.366498Z",
     "iopub.status.idle": "2023-11-06T06:41:30.405790Z",
     "shell.execute_reply": "2023-11-06T06:41:30.404680Z"
    },
    "papermill": {
     "duration": 0.051522,
     "end_time": "2023-11-06T06:41:30.408260",
     "exception": false,
     "start_time": "2023-11-06T06:41:30.356738",
     "status": "completed"
    },
    "tags": []
   },
   "outputs": [
    {
     "data": {
      "text/plain": [
       "Tournament            object\n",
       "Date                  object\n",
       "Series                object\n",
       "Court                 object\n",
       "Surface               object\n",
       "Round                 object\n",
       "Best of                int64\n",
       "Player_1              object\n",
       "Player_2              object\n",
       "Winner                object\n",
       "Rank_1                 int64\n",
       "Rank_2                 int64\n",
       "Pts_1                  int64\n",
       "Pts_2                  int64\n",
       "Odd_1                float64\n",
       "Odd_2                float64\n",
       "Score                 object\n",
       "date          datetime64[ns]\n",
       "dtype: object"
      ]
     },
     "execution_count": 4,
     "metadata": {},
     "output_type": "execute_result"
    }
   ],
   "source": [
    "# Check what DataType we have in our DataSet\n",
    "matches[\"date\"] = pd.to_datetime(matches[\"Date\"])\n",
    "matches.dtypes"
   ]
  },
  {
   "cell_type": "markdown",
   "id": "d56fbf64",
   "metadata": {
    "papermill": {
     "duration": 0.008803,
     "end_time": "2023-11-06T06:41:30.425847",
     "exception": false,
     "start_time": "2023-11-06T06:41:30.417044",
     "status": "completed"
    },
    "tags": []
   },
   "source": [
    "**Converting the Date type**\n",
    "\n",
    "Here I decided to only convert the Date column, but in order to increase the accuracy, in the future more columns may be converted and used in teh algorithm"
   ]
  },
  {
   "cell_type": "markdown",
   "id": "11e39f32",
   "metadata": {
    "papermill": {
     "duration": 0.008616,
     "end_time": "2023-11-06T06:41:30.443125",
     "exception": false,
     "start_time": "2023-11-06T06:41:30.434509",
     "status": "completed"
    },
    "tags": []
   },
   "source": [
    "**Creating the Predictors**\n",
    "\n",
    "In the Random Forest algorithm, predictors, also known as features or independent variables, are the variables used to make predictions. These predictors are the characteristics or attributes of the data that are input into the algorithm to train the model and subsequently used to make predictions on new, unseen data.\n",
    "\n",
    "In the context of predicting Premier League football matches, our predictors will include various features related to the result, opponents, time and day of the week. In order to increase the accuracy these predictors might include team statistics (e.g., previous match results, goal difference, number of goals scored), player performance metrics (e.g., goals, assists, yellow cards), historical data (e.g., head-to-head records, past performance in similar scenarios), and various other factors that might influence the outcome of a match."
   ]
  },
  {
   "cell_type": "code",
   "execution_count": 5,
   "id": "e5dbb396",
   "metadata": {
    "execution": {
     "iopub.execute_input": "2023-11-06T06:41:30.462366Z",
     "iopub.status.busy": "2023-11-06T06:41:30.461922Z",
     "iopub.status.idle": "2023-11-06T06:41:30.521922Z",
     "shell.execute_reply": "2023-11-06T06:41:30.520531Z"
    },
    "papermill": {
     "duration": 0.072977,
     "end_time": "2023-11-06T06:41:30.524755",
     "exception": false,
     "start_time": "2023-11-06T06:41:30.451778",
     "status": "completed"
    },
    "tags": []
   },
   "outputs": [],
   "source": [
    "# Create a new column representing the Indoor or Outdoor value\n",
    "matches[\"courtType\"] = matches[\"Court\"].astype(\"category\").cat.codes\n",
    "\n",
    "# Create a new column representing the kind of surface\n",
    "matches[\"groundType\"] = matches[\"Surface\"].astype(\"category\").cat.codes\n",
    "\n",
    "# Create a new column representing a code for each opponent\n",
    "matches[\"opponentCode\"] = matches[\"Player_2\"].astype(\"category\").cat.codes\n",
    "\n",
    "# Create a new column representing a code for each opponent\n",
    "matches[\"playerCode\"] = matches[\"Player_1\"].astype(\"category\").cat.codes\n",
    "\n",
    "\n",
    "# Create a new column representing if the player1 won the game with a 1 or if it didn't with a 0\n",
    "matches[\"target\"] = (matches[\"Winner\"] == matches[\"Player_1\"]).astype(\"int\")\n"
   ]
  },
  {
   "cell_type": "code",
   "execution_count": 6,
   "id": "78b3beea",
   "metadata": {
    "execution": {
     "iopub.execute_input": "2023-11-06T06:41:30.544682Z",
     "iopub.status.busy": "2023-11-06T06:41:30.544085Z",
     "iopub.status.idle": "2023-11-06T06:41:30.620345Z",
     "shell.execute_reply": "2023-11-06T06:41:30.619218Z"
    },
    "papermill": {
     "duration": 0.089146,
     "end_time": "2023-11-06T06:41:30.622887",
     "exception": false,
     "start_time": "2023-11-06T06:41:30.533741",
     "status": "completed"
    },
    "tags": []
   },
   "outputs": [
    {
     "data": {
      "text/html": [
       "<div>\n",
       "<style scoped>\n",
       "    .dataframe tbody tr th:only-of-type {\n",
       "        vertical-align: middle;\n",
       "    }\n",
       "\n",
       "    .dataframe tbody tr th {\n",
       "        vertical-align: top;\n",
       "    }\n",
       "\n",
       "    .dataframe thead th {\n",
       "        text-align: right;\n",
       "    }\n",
       "</style>\n",
       "<table border=\"1\" class=\"dataframe\">\n",
       "  <thead>\n",
       "    <tr style=\"text-align: right;\">\n",
       "      <th></th>\n",
       "      <th>Tournament</th>\n",
       "      <th>Date</th>\n",
       "      <th>Series</th>\n",
       "      <th>Court</th>\n",
       "      <th>Surface</th>\n",
       "      <th>Round</th>\n",
       "      <th>Best of</th>\n",
       "      <th>Player_1</th>\n",
       "      <th>Player_2</th>\n",
       "      <th>Winner</th>\n",
       "      <th>...</th>\n",
       "      <th>Pts_2</th>\n",
       "      <th>Odd_1</th>\n",
       "      <th>Odd_2</th>\n",
       "      <th>Score</th>\n",
       "      <th>date</th>\n",
       "      <th>courtType</th>\n",
       "      <th>groundType</th>\n",
       "      <th>opponentCode</th>\n",
       "      <th>playerCode</th>\n",
       "      <th>target</th>\n",
       "    </tr>\n",
       "  </thead>\n",
       "  <tbody>\n",
       "    <tr>\n",
       "      <th>0</th>\n",
       "      <td>Australian Hardcourt Championships</td>\n",
       "      <td>2000-01-03</td>\n",
       "      <td>International</td>\n",
       "      <td>Outdoor</td>\n",
       "      <td>Hard</td>\n",
       "      <td>1st Round</td>\n",
       "      <td>3</td>\n",
       "      <td>Dosedel S.</td>\n",
       "      <td>Ljubicic I.</td>\n",
       "      <td>Dosedel S.</td>\n",
       "      <td>...</td>\n",
       "      <td>-1</td>\n",
       "      <td>-1.00</td>\n",
       "      <td>-1.00</td>\n",
       "      <td>6-4 6-2</td>\n",
       "      <td>2000-01-03</td>\n",
       "      <td>1</td>\n",
       "      <td>3</td>\n",
       "      <td>730</td>\n",
       "      <td>313</td>\n",
       "      <td>1</td>\n",
       "    </tr>\n",
       "    <tr>\n",
       "      <th>1</th>\n",
       "      <td>Australian Hardcourt Championships</td>\n",
       "      <td>2000-01-03</td>\n",
       "      <td>International</td>\n",
       "      <td>Outdoor</td>\n",
       "      <td>Hard</td>\n",
       "      <td>1st Round</td>\n",
       "      <td>3</td>\n",
       "      <td>Clement A.</td>\n",
       "      <td>Enqvist T.</td>\n",
       "      <td>Enqvist T.</td>\n",
       "      <td>...</td>\n",
       "      <td>-1</td>\n",
       "      <td>-1.00</td>\n",
       "      <td>-1.00</td>\n",
       "      <td>3-6 3-6</td>\n",
       "      <td>2000-01-03</td>\n",
       "      <td>1</td>\n",
       "      <td>3</td>\n",
       "      <td>349</td>\n",
       "      <td>226</td>\n",
       "      <td>0</td>\n",
       "    </tr>\n",
       "    <tr>\n",
       "      <th>2</th>\n",
       "      <td>Australian Hardcourt Championships</td>\n",
       "      <td>2000-01-03</td>\n",
       "      <td>International</td>\n",
       "      <td>Outdoor</td>\n",
       "      <td>Hard</td>\n",
       "      <td>1st Round</td>\n",
       "      <td>3</td>\n",
       "      <td>Escude N.</td>\n",
       "      <td>Baccanello P.</td>\n",
       "      <td>Escude N.</td>\n",
       "      <td>...</td>\n",
       "      <td>-1</td>\n",
       "      <td>-1.00</td>\n",
       "      <td>-1.00</td>\n",
       "      <td>6-7 7-5 6-3</td>\n",
       "      <td>2000-01-03</td>\n",
       "      <td>1</td>\n",
       "      <td>3</td>\n",
       "      <td>62</td>\n",
       "      <td>351</td>\n",
       "      <td>1</td>\n",
       "    </tr>\n",
       "    <tr>\n",
       "      <th>3</th>\n",
       "      <td>Australian Hardcourt Championships</td>\n",
       "      <td>2000-01-03</td>\n",
       "      <td>International</td>\n",
       "      <td>Outdoor</td>\n",
       "      <td>Hard</td>\n",
       "      <td>1st Round</td>\n",
       "      <td>3</td>\n",
       "      <td>Knippschild J.</td>\n",
       "      <td>Federer R.</td>\n",
       "      <td>Federer R.</td>\n",
       "      <td>...</td>\n",
       "      <td>-1</td>\n",
       "      <td>-1.00</td>\n",
       "      <td>-1.00</td>\n",
       "      <td>1-6 4-6</td>\n",
       "      <td>2000-01-03</td>\n",
       "      <td>1</td>\n",
       "      <td>3</td>\n",
       "      <td>369</td>\n",
       "      <td>634</td>\n",
       "      <td>0</td>\n",
       "    </tr>\n",
       "    <tr>\n",
       "      <th>4</th>\n",
       "      <td>Australian Hardcourt Championships</td>\n",
       "      <td>2000-01-03</td>\n",
       "      <td>International</td>\n",
       "      <td>Outdoor</td>\n",
       "      <td>Hard</td>\n",
       "      <td>1st Round</td>\n",
       "      <td>3</td>\n",
       "      <td>Fromberg R.</td>\n",
       "      <td>Woodbridge T.</td>\n",
       "      <td>Fromberg R.</td>\n",
       "      <td>...</td>\n",
       "      <td>-1</td>\n",
       "      <td>-1.00</td>\n",
       "      <td>-1.00</td>\n",
       "      <td>7-6 5-7 6-4</td>\n",
       "      <td>2000-01-03</td>\n",
       "      <td>1</td>\n",
       "      <td>3</td>\n",
       "      <td>1367</td>\n",
       "      <td>397</td>\n",
       "      <td>1</td>\n",
       "    </tr>\n",
       "    <tr>\n",
       "      <th>...</th>\n",
       "      <td>...</td>\n",
       "      <td>...</td>\n",
       "      <td>...</td>\n",
       "      <td>...</td>\n",
       "      <td>...</td>\n",
       "      <td>...</td>\n",
       "      <td>...</td>\n",
       "      <td>...</td>\n",
       "      <td>...</td>\n",
       "      <td>...</td>\n",
       "      <td>...</td>\n",
       "      <td>...</td>\n",
       "      <td>...</td>\n",
       "      <td>...</td>\n",
       "      <td>...</td>\n",
       "      <td>...</td>\n",
       "      <td>...</td>\n",
       "      <td>...</td>\n",
       "      <td>...</td>\n",
       "      <td>...</td>\n",
       "      <td>...</td>\n",
       "    </tr>\n",
       "    <tr>\n",
       "      <th>61436</th>\n",
       "      <td>Vienna Open</td>\n",
       "      <td>2023-10-27</td>\n",
       "      <td>ATP500</td>\n",
       "      <td>Indoor</td>\n",
       "      <td>Hard</td>\n",
       "      <td>Quarterfinals</td>\n",
       "      <td>3</td>\n",
       "      <td>Rublev A.</td>\n",
       "      <td>Zverev A.</td>\n",
       "      <td>Rublev A.</td>\n",
       "      <td>...</td>\n",
       "      <td>3460</td>\n",
       "      <td>2.00</td>\n",
       "      <td>1.80</td>\n",
       "      <td>6-1 6-7 6-3</td>\n",
       "      <td>2023-10-27</td>\n",
       "      <td>0</td>\n",
       "      <td>3</td>\n",
       "      <td>1407</td>\n",
       "      <td>1082</td>\n",
       "      <td>1</td>\n",
       "    </tr>\n",
       "    <tr>\n",
       "      <th>61437</th>\n",
       "      <td>Vienna Open</td>\n",
       "      <td>2023-10-27</td>\n",
       "      <td>ATP500</td>\n",
       "      <td>Indoor</td>\n",
       "      <td>Hard</td>\n",
       "      <td>Quarterfinals</td>\n",
       "      <td>3</td>\n",
       "      <td>Tiafoe F.</td>\n",
       "      <td>Sinner J.</td>\n",
       "      <td>Sinner J.</td>\n",
       "      <td>...</td>\n",
       "      <td>5000</td>\n",
       "      <td>4.33</td>\n",
       "      <td>1.22</td>\n",
       "      <td>3-6 4-6</td>\n",
       "      <td>2023-10-27</td>\n",
       "      <td>0</td>\n",
       "      <td>3</td>\n",
       "      <td>1162</td>\n",
       "      <td>1250</td>\n",
       "      <td>0</td>\n",
       "    </tr>\n",
       "    <tr>\n",
       "      <th>61438</th>\n",
       "      <td>Vienna Open</td>\n",
       "      <td>2023-10-28</td>\n",
       "      <td>ATP500</td>\n",
       "      <td>Indoor</td>\n",
       "      <td>Hard</td>\n",
       "      <td>Semifinals</td>\n",
       "      <td>3</td>\n",
       "      <td>Medvedev D.</td>\n",
       "      <td>Tsitsipas S.</td>\n",
       "      <td>Medvedev D.</td>\n",
       "      <td>...</td>\n",
       "      <td>4300</td>\n",
       "      <td>1.33</td>\n",
       "      <td>3.40</td>\n",
       "      <td>6-4 7-6</td>\n",
       "      <td>2023-10-28</td>\n",
       "      <td>0</td>\n",
       "      <td>3</td>\n",
       "      <td>1267</td>\n",
       "      <td>819</td>\n",
       "      <td>1</td>\n",
       "    </tr>\n",
       "    <tr>\n",
       "      <th>61439</th>\n",
       "      <td>Vienna Open</td>\n",
       "      <td>2023-10-28</td>\n",
       "      <td>ATP500</td>\n",
       "      <td>Indoor</td>\n",
       "      <td>Hard</td>\n",
       "      <td>Semifinals</td>\n",
       "      <td>3</td>\n",
       "      <td>Rublev A.</td>\n",
       "      <td>Sinner J.</td>\n",
       "      <td>Sinner J.</td>\n",
       "      <td>...</td>\n",
       "      <td>5000</td>\n",
       "      <td>2.63</td>\n",
       "      <td>1.50</td>\n",
       "      <td>5-7 6-7</td>\n",
       "      <td>2023-10-28</td>\n",
       "      <td>0</td>\n",
       "      <td>3</td>\n",
       "      <td>1162</td>\n",
       "      <td>1082</td>\n",
       "      <td>0</td>\n",
       "    </tr>\n",
       "    <tr>\n",
       "      <th>61440</th>\n",
       "      <td>Vienna Open</td>\n",
       "      <td>2023-10-29</td>\n",
       "      <td>ATP500</td>\n",
       "      <td>Indoor</td>\n",
       "      <td>Hard</td>\n",
       "      <td>The Final</td>\n",
       "      <td>3</td>\n",
       "      <td>Sinner J.</td>\n",
       "      <td>Medvedev D.</td>\n",
       "      <td>Sinner J.</td>\n",
       "      <td>...</td>\n",
       "      <td>7355</td>\n",
       "      <td>2.00</td>\n",
       "      <td>1.80</td>\n",
       "      <td>7-6 4-6 6-3</td>\n",
       "      <td>2023-10-29</td>\n",
       "      <td>0</td>\n",
       "      <td>3</td>\n",
       "      <td>812</td>\n",
       "      <td>1176</td>\n",
       "      <td>1</td>\n",
       "    </tr>\n",
       "  </tbody>\n",
       "</table>\n",
       "<p>61441 rows × 23 columns</p>\n",
       "</div>"
      ],
      "text/plain": [
       "                               Tournament        Date         Series    Court  \\\n",
       "0      Australian Hardcourt Championships  2000-01-03  International  Outdoor   \n",
       "1      Australian Hardcourt Championships  2000-01-03  International  Outdoor   \n",
       "2      Australian Hardcourt Championships  2000-01-03  International  Outdoor   \n",
       "3      Australian Hardcourt Championships  2000-01-03  International  Outdoor   \n",
       "4      Australian Hardcourt Championships  2000-01-03  International  Outdoor   \n",
       "...                                   ...         ...            ...      ...   \n",
       "61436                         Vienna Open  2023-10-27         ATP500   Indoor   \n",
       "61437                         Vienna Open  2023-10-27         ATP500   Indoor   \n",
       "61438                         Vienna Open  2023-10-28         ATP500   Indoor   \n",
       "61439                         Vienna Open  2023-10-28         ATP500   Indoor   \n",
       "61440                         Vienna Open  2023-10-29         ATP500   Indoor   \n",
       "\n",
       "      Surface          Round  Best of        Player_1       Player_2  \\\n",
       "0        Hard      1st Round        3      Dosedel S.    Ljubicic I.   \n",
       "1        Hard      1st Round        3      Clement A.     Enqvist T.   \n",
       "2        Hard      1st Round        3       Escude N.  Baccanello P.   \n",
       "3        Hard      1st Round        3  Knippschild J.     Federer R.   \n",
       "4        Hard      1st Round        3     Fromberg R.  Woodbridge T.   \n",
       "...       ...            ...      ...             ...            ...   \n",
       "61436    Hard  Quarterfinals        3       Rublev A.      Zverev A.   \n",
       "61437    Hard  Quarterfinals        3       Tiafoe F.      Sinner J.   \n",
       "61438    Hard     Semifinals        3     Medvedev D.   Tsitsipas S.   \n",
       "61439    Hard     Semifinals        3       Rublev A.      Sinner J.   \n",
       "61440    Hard      The Final        3       Sinner J.    Medvedev D.   \n",
       "\n",
       "            Winner  ...  Pts_2  Odd_1  Odd_2           Score       date  \\\n",
       "0       Dosedel S.  ...     -1  -1.00  -1.00     6-4 6-2     2000-01-03   \n",
       "1       Enqvist T.  ...     -1  -1.00  -1.00     3-6 3-6     2000-01-03   \n",
       "2        Escude N.  ...     -1  -1.00  -1.00  6-7 7-5 6-3    2000-01-03   \n",
       "3       Federer R.  ...     -1  -1.00  -1.00     1-6 4-6     2000-01-03   \n",
       "4      Fromberg R.  ...     -1  -1.00  -1.00  7-6 5-7 6-4    2000-01-03   \n",
       "...            ...  ...    ...    ...    ...             ...        ...   \n",
       "61436    Rublev A.  ...   3460   2.00   1.80  6-1 6-7 6-3    2023-10-27   \n",
       "61437    Sinner J.  ...   5000   4.33   1.22     3-6 4-6     2023-10-27   \n",
       "61438  Medvedev D.  ...   4300   1.33   3.40     6-4 7-6     2023-10-28   \n",
       "61439    Sinner J.  ...   5000   2.63   1.50     5-7 6-7     2023-10-28   \n",
       "61440    Sinner J.  ...   7355   2.00   1.80  7-6 4-6 6-3    2023-10-29   \n",
       "\n",
       "       courtType groundType opponentCode  playerCode  target  \n",
       "0              1          3          730         313       1  \n",
       "1              1          3          349         226       0  \n",
       "2              1          3           62         351       1  \n",
       "3              1          3          369         634       0  \n",
       "4              1          3         1367         397       1  \n",
       "...          ...        ...          ...         ...     ...  \n",
       "61436          0          3         1407        1082       1  \n",
       "61437          0          3         1162        1250       0  \n",
       "61438          0          3         1267         819       1  \n",
       "61439          0          3         1162        1082       0  \n",
       "61440          0          3          812        1176       1  \n",
       "\n",
       "[61441 rows x 23 columns]"
      ]
     },
     "execution_count": 6,
     "metadata": {},
     "output_type": "execute_result"
    }
   ],
   "source": [
    "matches"
   ]
  },
  {
   "cell_type": "markdown",
   "id": "390ee753",
   "metadata": {
    "papermill": {
     "duration": 0.010276,
     "end_time": "2023-11-06T06:41:30.642849",
     "exception": false,
     "start_time": "2023-11-06T06:41:30.632573",
     "status": "completed"
    },
    "tags": []
   },
   "source": [
    "**Training the model**\n",
    "\n",
    "As soon as our basic predictors are created and added to the DataSet, we are able to Train our model. Training is one of the most, if not the most important part of our machine learnig algorithm, in my case, I decided to use all the data until the year 2023 as Training Data, and all the Data after the 2023 as testing data."
   ]
  },
  {
   "cell_type": "markdown",
   "id": "276c62d3",
   "metadata": {
    "papermill": {
     "duration": 0.009106,
     "end_time": "2023-11-06T06:41:30.661535",
     "exception": false,
     "start_time": "2023-11-06T06:41:30.652429",
     "status": "completed"
    },
    "tags": []
   },
   "source": [
    "**Random Forest algorithm**\n",
    "\n",
    "During the training phase of the Random Forest algorithm, each decision tree is trained to predict the target variable (in this case, the outcome of the Premier League football match) based on the subset of predictors assigned to it. The algorithm determines the importance of each predictor by measuring how much it contributes to reducing the impurity or increasing the information gain in the decision tree.\n",
    "\n",
    "When making predictions with the trained Random Forest model, the algorithm combines the predictions of all the decision trees by averaging (for regression problems) or voting (for classification problems) to generate the final prediction. Each decision tree contributes its own prediction based on the assigned subset of predictors, and the final prediction is determined by the collective wisdom of the entire ensemble.\n",
    "\n",
    "In summary, predictors in the Random Forest algorithm are the input variables that capture the relevant information and characteristics of the data used to train the model. These predictors are used by individual decision trees within the ensemble to make predictions, and the algorithm combines the predictions of all the decision trees to produce the final prediction."
   ]
  },
  {
   "cell_type": "code",
   "execution_count": 7,
   "id": "985f58cc",
   "metadata": {
    "execution": {
     "iopub.execute_input": "2023-11-06T06:41:30.683204Z",
     "iopub.status.busy": "2023-11-06T06:41:30.682369Z",
     "iopub.status.idle": "2023-11-06T06:43:15.926967Z",
     "shell.execute_reply": "2023-11-06T06:43:15.925799Z"
    },
    "papermill": {
     "duration": 105.267558,
     "end_time": "2023-11-06T06:43:15.939117",
     "exception": false,
     "start_time": "2023-11-06T06:41:30.671559",
     "status": "completed"
    },
    "tags": []
   },
   "outputs": [
    {
     "data": {
      "text/html": [
       "<style>#sk-container-id-1 {color: black;background-color: white;}#sk-container-id-1 pre{padding: 0;}#sk-container-id-1 div.sk-toggleable {background-color: white;}#sk-container-id-1 label.sk-toggleable__label {cursor: pointer;display: block;width: 100%;margin-bottom: 0;padding: 0.3em;box-sizing: border-box;text-align: center;}#sk-container-id-1 label.sk-toggleable__label-arrow:before {content: \"▸\";float: left;margin-right: 0.25em;color: #696969;}#sk-container-id-1 label.sk-toggleable__label-arrow:hover:before {color: black;}#sk-container-id-1 div.sk-estimator:hover label.sk-toggleable__label-arrow:before {color: black;}#sk-container-id-1 div.sk-toggleable__content {max-height: 0;max-width: 0;overflow: hidden;text-align: left;background-color: #f0f8ff;}#sk-container-id-1 div.sk-toggleable__content pre {margin: 0.2em;color: black;border-radius: 0.25em;background-color: #f0f8ff;}#sk-container-id-1 input.sk-toggleable__control:checked~div.sk-toggleable__content {max-height: 200px;max-width: 100%;overflow: auto;}#sk-container-id-1 input.sk-toggleable__control:checked~label.sk-toggleable__label-arrow:before {content: \"▾\";}#sk-container-id-1 div.sk-estimator input.sk-toggleable__control:checked~label.sk-toggleable__label {background-color: #d4ebff;}#sk-container-id-1 div.sk-label input.sk-toggleable__control:checked~label.sk-toggleable__label {background-color: #d4ebff;}#sk-container-id-1 input.sk-hidden--visually {border: 0;clip: rect(1px 1px 1px 1px);clip: rect(1px, 1px, 1px, 1px);height: 1px;margin: -1px;overflow: hidden;padding: 0;position: absolute;width: 1px;}#sk-container-id-1 div.sk-estimator {font-family: monospace;background-color: #f0f8ff;border: 1px dotted black;border-radius: 0.25em;box-sizing: border-box;margin-bottom: 0.5em;}#sk-container-id-1 div.sk-estimator:hover {background-color: #d4ebff;}#sk-container-id-1 div.sk-parallel-item::after {content: \"\";width: 100%;border-bottom: 1px solid gray;flex-grow: 1;}#sk-container-id-1 div.sk-label:hover label.sk-toggleable__label {background-color: #d4ebff;}#sk-container-id-1 div.sk-serial::before {content: \"\";position: absolute;border-left: 1px solid gray;box-sizing: border-box;top: 0;bottom: 0;left: 50%;z-index: 0;}#sk-container-id-1 div.sk-serial {display: flex;flex-direction: column;align-items: center;background-color: white;padding-right: 0.2em;padding-left: 0.2em;position: relative;}#sk-container-id-1 div.sk-item {position: relative;z-index: 1;}#sk-container-id-1 div.sk-parallel {display: flex;align-items: stretch;justify-content: center;background-color: white;position: relative;}#sk-container-id-1 div.sk-item::before, #sk-container-id-1 div.sk-parallel-item::before {content: \"\";position: absolute;border-left: 1px solid gray;box-sizing: border-box;top: 0;bottom: 0;left: 50%;z-index: -1;}#sk-container-id-1 div.sk-parallel-item {display: flex;flex-direction: column;z-index: 1;position: relative;background-color: white;}#sk-container-id-1 div.sk-parallel-item:first-child::after {align-self: flex-end;width: 50%;}#sk-container-id-1 div.sk-parallel-item:last-child::after {align-self: flex-start;width: 50%;}#sk-container-id-1 div.sk-parallel-item:only-child::after {width: 0;}#sk-container-id-1 div.sk-dashed-wrapped {border: 1px dashed gray;margin: 0 0.4em 0.5em 0.4em;box-sizing: border-box;padding-bottom: 0.4em;background-color: white;}#sk-container-id-1 div.sk-label label {font-family: monospace;font-weight: bold;display: inline-block;line-height: 1.2em;}#sk-container-id-1 div.sk-label-container {text-align: center;}#sk-container-id-1 div.sk-container {/* jupyter's `normalize.less` sets `[hidden] { display: none; }` but bootstrap.min.css set `[hidden] { display: none !important; }` so we also need the `!important` here to be able to override the default hidden behavior on the sphinx rendered scikit-learn.org. See: https://github.com/scikit-learn/scikit-learn/issues/21755 */display: inline-block !important;position: relative;}#sk-container-id-1 div.sk-text-repr-fallback {display: none;}</style><div id=\"sk-container-id-1\" class=\"sk-top-container\"><div class=\"sk-text-repr-fallback\"><pre>RandomForestClassifier(min_samples_split=15, n_estimators=1000, random_state=1)</pre><b>In a Jupyter environment, please rerun this cell to show the HTML representation or trust the notebook. <br />On GitHub, the HTML representation is unable to render, please try loading this page with nbviewer.org.</b></div><div class=\"sk-container\" hidden><div class=\"sk-item\"><div class=\"sk-estimator sk-toggleable\"><input class=\"sk-toggleable__control sk-hidden--visually\" id=\"sk-estimator-id-1\" type=\"checkbox\" checked><label for=\"sk-estimator-id-1\" class=\"sk-toggleable__label sk-toggleable__label-arrow\">RandomForestClassifier</label><div class=\"sk-toggleable__content\"><pre>RandomForestClassifier(min_samples_split=15, n_estimators=1000, random_state=1)</pre></div></div></div></div></div>"
      ],
      "text/plain": [
       "RandomForestClassifier(min_samples_split=15, n_estimators=1000, random_state=1)"
      ]
     },
     "execution_count": 7,
     "metadata": {},
     "output_type": "execute_result"
    }
   ],
   "source": [
    "# Training the machine learning model \n",
    "from sklearn.ensemble import RandomForestClassifier\n",
    "\n",
    "rf = RandomForestClassifier(n_estimators = 1000, min_samples_split = 15, random_state = 1)\n",
    "\n",
    "# Divide the dataset into train and test sections\n",
    "conditionDate = matches['date'] > '2005-01-01'\n",
    "conditionDate2 = matches['date'] < '2023-10-29'\n",
    "combinedCondition = conditionDate & conditionDate2 \n",
    "train = matches[combinedCondition]\n",
    "\n",
    "test = matches[matches[\"date\"] > '2023-6-01']\n",
    "\n",
    "# A list of all the prdictors \n",
    "predictors = [\"playerCode\", \"opponentCode\", \"Rank_1\", \"Rank_2\", \"Pts_1\", \"Pts_2\", \"Odd_1\", \"Odd_2\"]\n",
    "\n",
    "# Fit the random forest model, fitting the predictors and trying to predict the target\n",
    "rf.fit(train[predictors], train[\"target\"])"
   ]
  },
  {
   "cell_type": "markdown",
   "id": "1cbb981b",
   "metadata": {
    "papermill": {
     "duration": 0.009064,
     "end_time": "2023-11-06T06:43:15.957855",
     "exception": false,
     "start_time": "2023-11-06T06:43:15.948791",
     "status": "completed"
    },
    "tags": []
   },
   "source": [
    "**Generating the first prediction**\n",
    "\n",
    "After succeffully train the model, we are ready to generate some prediction based the previous results. As soon as we have our first prediction we can then calculate the accuracy of the model."
   ]
  },
  {
   "cell_type": "code",
   "execution_count": 8,
   "id": "3d3e541c",
   "metadata": {
    "execution": {
     "iopub.execute_input": "2023-11-06T06:43:15.978879Z",
     "iopub.status.busy": "2023-11-06T06:43:15.978459Z",
     "iopub.status.idle": "2023-11-06T06:43:16.479402Z",
     "shell.execute_reply": "2023-11-06T06:43:16.478521Z"
    },
    "papermill": {
     "duration": 0.514508,
     "end_time": "2023-11-06T06:43:16.482000",
     "exception": false,
     "start_time": "2023-11-06T06:43:15.967492",
     "status": "completed"
    },
    "tags": []
   },
   "outputs": [],
   "source": [
    "# Generate prediction, passing the test data and the predictors\n",
    "preds = rf.predict(test[predictors])\n",
    "\n",
    "# Need to describe the accuracy\n",
    "from sklearn.metrics import accuracy_score\n",
    "\n",
    "# Calculate the accuracy passing the test data, with the predictors and the prediction\n",
    "acc = accuracy_score(test[\"target\"], preds)"
   ]
  },
  {
   "cell_type": "markdown",
   "id": "79f65066",
   "metadata": {
    "papermill": {
     "duration": 0.009353,
     "end_time": "2023-11-06T06:43:16.501203",
     "exception": false,
     "start_time": "2023-11-06T06:43:16.491850",
     "status": "completed"
    },
    "tags": []
   },
   "source": [
    "**Accuracy**\n",
    "\n",
    "Our first acccuracy is actually pretty good, but we have to remember that this accuracy isn't just the winning case accuracy, but it's going to reflect also the loose and draw case. We will have to chance the method of calculation for the accuracy"
   ]
  },
  {
   "cell_type": "code",
   "execution_count": 9,
   "id": "a7f3e982",
   "metadata": {
    "execution": {
     "iopub.execute_input": "2023-11-06T06:43:16.522883Z",
     "iopub.status.busy": "2023-11-06T06:43:16.521997Z",
     "iopub.status.idle": "2023-11-06T06:43:16.528637Z",
     "shell.execute_reply": "2023-11-06T06:43:16.527670Z"
    },
    "papermill": {
     "duration": 0.019516,
     "end_time": "2023-11-06T06:43:16.530870",
     "exception": false,
     "start_time": "2023-11-06T06:43:16.511354",
     "status": "completed"
    },
    "tags": []
   },
   "outputs": [
    {
     "data": {
      "text/plain": [
       "0.9107589658048374"
      ]
     },
     "execution_count": 9,
     "metadata": {},
     "output_type": "execute_result"
    }
   ],
   "source": [
    "acc"
   ]
  },
  {
   "cell_type": "code",
   "execution_count": 10,
   "id": "e8a63bf8",
   "metadata": {
    "execution": {
     "iopub.execute_input": "2023-11-06T06:43:16.552285Z",
     "iopub.status.busy": "2023-11-06T06:43:16.551605Z",
     "iopub.status.idle": "2023-11-06T06:43:16.580543Z",
     "shell.execute_reply": "2023-11-06T06:43:16.579422Z"
    },
    "papermill": {
     "duration": 0.04223,
     "end_time": "2023-11-06T06:43:16.583011",
     "exception": false,
     "start_time": "2023-11-06T06:43:16.540781",
     "status": "completed"
    },
    "tags": []
   },
   "outputs": [
    {
     "data": {
      "text/html": [
       "<div>\n",
       "<style scoped>\n",
       "    .dataframe tbody tr th:only-of-type {\n",
       "        vertical-align: middle;\n",
       "    }\n",
       "\n",
       "    .dataframe tbody tr th {\n",
       "        vertical-align: top;\n",
       "    }\n",
       "\n",
       "    .dataframe thead th {\n",
       "        text-align: right;\n",
       "    }\n",
       "</style>\n",
       "<table border=\"1\" class=\"dataframe\">\n",
       "  <thead>\n",
       "    <tr style=\"text-align: right;\">\n",
       "      <th>prediction</th>\n",
       "      <th>0</th>\n",
       "      <th>1</th>\n",
       "    </tr>\n",
       "    <tr>\n",
       "      <th>actual</th>\n",
       "      <th></th>\n",
       "      <th></th>\n",
       "    </tr>\n",
       "  </thead>\n",
       "  <tbody>\n",
       "    <tr>\n",
       "      <th>0</th>\n",
       "      <td>535</td>\n",
       "      <td>64</td>\n",
       "    </tr>\n",
       "    <tr>\n",
       "      <th>1</th>\n",
       "      <td>43</td>\n",
       "      <td>557</td>\n",
       "    </tr>\n",
       "  </tbody>\n",
       "</table>\n",
       "</div>"
      ],
      "text/plain": [
       "prediction    0    1\n",
       "actual              \n",
       "0           535   64\n",
       "1            43  557"
      ]
     },
     "execution_count": 10,
     "metadata": {},
     "output_type": "execute_result"
    }
   ],
   "source": [
    "# Create a new DataFrame to combine the actual values and the predicted values \n",
    "combined = pd.DataFrame(dict(actual=test[\"target\"], prediction=preds))\n",
    "\n",
    "# Show a table with the new DataFrame\n",
    "pd.crosstab(index = combined[\"actual\"], columns = combined[\"prediction\"])"
   ]
  },
  {
   "cell_type": "code",
   "execution_count": 11,
   "id": "91cfa960",
   "metadata": {
    "execution": {
     "iopub.execute_input": "2023-11-06T06:43:16.605251Z",
     "iopub.status.busy": "2023-11-06T06:43:16.604841Z",
     "iopub.status.idle": "2023-11-06T06:43:16.637874Z",
     "shell.execute_reply": "2023-11-06T06:43:16.636748Z"
    },
    "papermill": {
     "duration": 0.047244,
     "end_time": "2023-11-06T06:43:16.640259",
     "exception": false,
     "start_time": "2023-11-06T06:43:16.593015",
     "status": "completed"
    },
    "tags": []
   },
   "outputs": [
    {
     "data": {
      "text/html": [
       "<div>\n",
       "<style scoped>\n",
       "    .dataframe tbody tr th:only-of-type {\n",
       "        vertical-align: middle;\n",
       "    }\n",
       "\n",
       "    .dataframe tbody tr th {\n",
       "        vertical-align: top;\n",
       "    }\n",
       "\n",
       "    .dataframe thead th {\n",
       "        text-align: right;\n",
       "    }\n",
       "</style>\n",
       "<table border=\"1\" class=\"dataframe\">\n",
       "  <thead>\n",
       "    <tr style=\"text-align: right;\">\n",
       "      <th></th>\n",
       "      <th>actual</th>\n",
       "      <th>predicted</th>\n",
       "      <th>Player_1</th>\n",
       "      <th>Player_2</th>\n",
       "      <th>playerCode</th>\n",
       "      <th>opponentCode</th>\n",
       "      <th>Rank_1</th>\n",
       "      <th>Rank_2</th>\n",
       "      <th>Pts_1</th>\n",
       "      <th>Pts_2</th>\n",
       "      <th>Odd_1</th>\n",
       "      <th>Odd_2</th>\n",
       "    </tr>\n",
       "  </thead>\n",
       "  <tbody>\n",
       "    <tr>\n",
       "      <th>60242</th>\n",
       "      <td>1</td>\n",
       "      <td>1</td>\n",
       "      <td>Khachanov K.</td>\n",
       "      <td>Kokkinakis T.</td>\n",
       "      <td>611</td>\n",
       "      <td>640</td>\n",
       "      <td>11</td>\n",
       "      <td>108</td>\n",
       "      <td>2945</td>\n",
       "      <td>587</td>\n",
       "      <td>1.29</td>\n",
       "      <td>3.75</td>\n",
       "    </tr>\n",
       "    <tr>\n",
       "      <th>60243</th>\n",
       "      <td>0</td>\n",
       "      <td>1</td>\n",
       "      <td>Rublev A.</td>\n",
       "      <td>Sonego L.</td>\n",
       "      <td>1082</td>\n",
       "      <td>1178</td>\n",
       "      <td>7</td>\n",
       "      <td>48</td>\n",
       "      <td>4270</td>\n",
       "      <td>925</td>\n",
       "      <td>1.29</td>\n",
       "      <td>3.75</td>\n",
       "    </tr>\n",
       "    <tr>\n",
       "      <th>60244</th>\n",
       "      <td>1</td>\n",
       "      <td>1</td>\n",
       "      <td>Ofner S.</td>\n",
       "      <td>Fognini F.</td>\n",
       "      <td>933</td>\n",
       "      <td>384</td>\n",
       "      <td>118</td>\n",
       "      <td>130</td>\n",
       "      <td>534</td>\n",
       "      <td>468</td>\n",
       "      <td>2.20</td>\n",
       "      <td>1.67</td>\n",
       "    </tr>\n",
       "    <tr>\n",
       "      <th>60245</th>\n",
       "      <td>0</td>\n",
       "      <td>0</td>\n",
       "      <td>Davidovich Fokina A.</td>\n",
       "      <td>Djokovic N.</td>\n",
       "      <td>263</td>\n",
       "      <td>309</td>\n",
       "      <td>34</td>\n",
       "      <td>3</td>\n",
       "      <td>1115</td>\n",
       "      <td>5955</td>\n",
       "      <td>6.00</td>\n",
       "      <td>1.13</td>\n",
       "    </tr>\n",
       "    <tr>\n",
       "      <th>60246</th>\n",
       "      <td>1</td>\n",
       "      <td>1</td>\n",
       "      <td>Musetti L.</td>\n",
       "      <td>Norrie C.</td>\n",
       "      <td>892</td>\n",
       "      <td>921</td>\n",
       "      <td>18</td>\n",
       "      <td>13</td>\n",
       "      <td>2040</td>\n",
       "      <td>2565</td>\n",
       "      <td>1.53</td>\n",
       "      <td>2.50</td>\n",
       "    </tr>\n",
       "    <tr>\n",
       "      <th>...</th>\n",
       "      <td>...</td>\n",
       "      <td>...</td>\n",
       "      <td>...</td>\n",
       "      <td>...</td>\n",
       "      <td>...</td>\n",
       "      <td>...</td>\n",
       "      <td>...</td>\n",
       "      <td>...</td>\n",
       "      <td>...</td>\n",
       "      <td>...</td>\n",
       "      <td>...</td>\n",
       "      <td>...</td>\n",
       "    </tr>\n",
       "    <tr>\n",
       "      <th>61436</th>\n",
       "      <td>1</td>\n",
       "      <td>1</td>\n",
       "      <td>Rublev A.</td>\n",
       "      <td>Zverev A.</td>\n",
       "      <td>1082</td>\n",
       "      <td>1407</td>\n",
       "      <td>5</td>\n",
       "      <td>10</td>\n",
       "      <td>4765</td>\n",
       "      <td>3460</td>\n",
       "      <td>2.00</td>\n",
       "      <td>1.80</td>\n",
       "    </tr>\n",
       "    <tr>\n",
       "      <th>61437</th>\n",
       "      <td>0</td>\n",
       "      <td>0</td>\n",
       "      <td>Tiafoe F.</td>\n",
       "      <td>Sinner J.</td>\n",
       "      <td>1250</td>\n",
       "      <td>1162</td>\n",
       "      <td>14</td>\n",
       "      <td>4</td>\n",
       "      <td>2400</td>\n",
       "      <td>5000</td>\n",
       "      <td>4.33</td>\n",
       "      <td>1.22</td>\n",
       "    </tr>\n",
       "    <tr>\n",
       "      <th>61438</th>\n",
       "      <td>1</td>\n",
       "      <td>1</td>\n",
       "      <td>Medvedev D.</td>\n",
       "      <td>Tsitsipas S.</td>\n",
       "      <td>819</td>\n",
       "      <td>1267</td>\n",
       "      <td>3</td>\n",
       "      <td>7</td>\n",
       "      <td>7355</td>\n",
       "      <td>4300</td>\n",
       "      <td>1.33</td>\n",
       "      <td>3.40</td>\n",
       "    </tr>\n",
       "    <tr>\n",
       "      <th>61439</th>\n",
       "      <td>0</td>\n",
       "      <td>0</td>\n",
       "      <td>Rublev A.</td>\n",
       "      <td>Sinner J.</td>\n",
       "      <td>1082</td>\n",
       "      <td>1162</td>\n",
       "      <td>5</td>\n",
       "      <td>4</td>\n",
       "      <td>4765</td>\n",
       "      <td>5000</td>\n",
       "      <td>2.63</td>\n",
       "      <td>1.50</td>\n",
       "    </tr>\n",
       "    <tr>\n",
       "      <th>61440</th>\n",
       "      <td>1</td>\n",
       "      <td>0</td>\n",
       "      <td>Sinner J.</td>\n",
       "      <td>Medvedev D.</td>\n",
       "      <td>1176</td>\n",
       "      <td>812</td>\n",
       "      <td>4</td>\n",
       "      <td>3</td>\n",
       "      <td>5000</td>\n",
       "      <td>7355</td>\n",
       "      <td>2.00</td>\n",
       "      <td>1.80</td>\n",
       "    </tr>\n",
       "  </tbody>\n",
       "</table>\n",
       "<p>1199 rows × 12 columns</p>\n",
       "</div>"
      ],
      "text/plain": [
       "       actual  predicted              Player_1       Player_2  playerCode  \\\n",
       "60242       1          1          Khachanov K.  Kokkinakis T.         611   \n",
       "60243       0          1             Rublev A.      Sonego L.        1082   \n",
       "60244       1          1              Ofner S.     Fognini F.         933   \n",
       "60245       0          0  Davidovich Fokina A.    Djokovic N.         263   \n",
       "60246       1          1            Musetti L.      Norrie C.         892   \n",
       "...       ...        ...                   ...            ...         ...   \n",
       "61436       1          1             Rublev A.      Zverev A.        1082   \n",
       "61437       0          0             Tiafoe F.      Sinner J.        1250   \n",
       "61438       1          1           Medvedev D.   Tsitsipas S.         819   \n",
       "61439       0          0             Rublev A.      Sinner J.        1082   \n",
       "61440       1          0             Sinner J.    Medvedev D.        1176   \n",
       "\n",
       "       opponentCode  Rank_1  Rank_2  Pts_1  Pts_2  Odd_1  Odd_2  \n",
       "60242           640      11     108   2945    587   1.29   3.75  \n",
       "60243          1178       7      48   4270    925   1.29   3.75  \n",
       "60244           384     118     130    534    468   2.20   1.67  \n",
       "60245           309      34       3   1115   5955   6.00   1.13  \n",
       "60246           921      18      13   2040   2565   1.53   2.50  \n",
       "...             ...     ...     ...    ...    ...    ...    ...  \n",
       "61436          1407       5      10   4765   3460   2.00   1.80  \n",
       "61437          1162      14       4   2400   5000   4.33   1.22  \n",
       "61438          1267       3       7   7355   4300   1.33   3.40  \n",
       "61439          1162       5       4   4765   5000   2.63   1.50  \n",
       "61440           812       4       3   5000   7355   2.00   1.80  \n",
       "\n",
       "[1199 rows x 12 columns]"
      ]
     },
     "execution_count": 11,
     "metadata": {},
     "output_type": "execute_result"
    }
   ],
   "source": [
    "combined = pd.DataFrame(dict(actual = test[\"target\"], predicted = preds), index = test.index)\n",
    "combined = combined.merge(matches[[\"Player_1\", \"Player_2\", \"playerCode\", \"opponentCode\", \"Rank_1\", \"Rank_2\", \"Pts_1\", \"Pts_2\", \"Odd_1\", \"Odd_2\"]], left_index = True, right_index = True)\n",
    "combined "
   ]
  },
  {
   "cell_type": "code",
   "execution_count": 12,
   "id": "ad9d15a2",
   "metadata": {
    "execution": {
     "iopub.execute_input": "2023-11-06T06:43:16.662556Z",
     "iopub.status.busy": "2023-11-06T06:43:16.662149Z",
     "iopub.status.idle": "2023-11-06T06:43:16.681173Z",
     "shell.execute_reply": "2023-11-06T06:43:16.679963Z"
    },
    "papermill": {
     "duration": 0.032808,
     "end_time": "2023-11-06T06:43:16.683381",
     "exception": false,
     "start_time": "2023-11-06T06:43:16.650573",
     "status": "completed"
    },
    "tags": []
   },
   "outputs": [
    {
     "name": "stdout",
     "output_type": "stream",
     "text": [
      "Rows for Player: Rune H.\n",
      "54495    1084\n",
      "54735    1084\n",
      "55494    1084\n",
      "55503    1084\n",
      "55613    1084\n",
      "         ... \n",
      "60867    1084\n",
      "60983    1084\n",
      "61402    1084\n",
      "61406    1084\n",
      "61409    1084\n",
      "Name: playerCode, Length: 61, dtype: int16\n"
     ]
    }
   ],
   "source": [
    "# Assuming you have a pandas DataFrame 'df' with a column 'PlayerName'\n",
    "nameToFind = \"Rune H.\"\n",
    "\n",
    "# Filter the DataFrame based on the player's name\n",
    "rows = matches.loc[matches[\"Player_1\"] == nameToFind, \"playerCode\"]\n",
    "\n",
    "# Check if any rows were found\n",
    "if not rows.empty:\n",
    "    print(\"Rows for Player:\", nameToFind)\n",
    "    print(rows)\n",
    "\n",
    "else:\n",
    "    print(\"Player not found in the dataset.\")\n"
   ]
  },
  {
   "cell_type": "code",
   "execution_count": 13,
   "id": "d1ff7d9e",
   "metadata": {
    "execution": {
     "iopub.execute_input": "2023-11-06T06:43:16.706180Z",
     "iopub.status.busy": "2023-11-06T06:43:16.705760Z",
     "iopub.status.idle": "2023-11-06T06:43:16.725792Z",
     "shell.execute_reply": "2023-11-06T06:43:16.724164Z"
    },
    "papermill": {
     "duration": 0.034218,
     "end_time": "2023-11-06T06:43:16.728045",
     "exception": false,
     "start_time": "2023-11-06T06:43:16.693827",
     "status": "completed"
    },
    "tags": []
   },
   "outputs": [
    {
     "name": "stdout",
     "output_type": "stream",
     "text": [
      "Rows for Player: Altmaier D.\n",
      "46613    23\n",
      "46616    23\n",
      "46898    23\n",
      "53703    23\n",
      "53716    23\n",
      "53730    23\n",
      "53836    23\n",
      "54476    23\n",
      "55250    23\n",
      "55629    23\n",
      "55633    23\n",
      "55636    23\n",
      "56490    23\n",
      "56544    23\n",
      "56693    23\n",
      "56703    23\n",
      "56712    23\n",
      "56754    23\n",
      "56812    23\n",
      "56918    23\n",
      "57022    23\n",
      "57108    23\n",
      "57396    23\n",
      "57570    23\n",
      "57754    23\n",
      "57845    23\n",
      "57848    23\n",
      "58144    23\n",
      "58434    23\n",
      "59074    23\n",
      "59217    23\n",
      "59224    23\n",
      "59604    23\n",
      "59724    23\n",
      "60023    23\n",
      "60187    23\n",
      "60256    23\n",
      "60593    23\n",
      "60606    23\n",
      "60675    23\n",
      "60693    23\n",
      "60696    23\n",
      "60735    23\n",
      "60744    23\n",
      "60894    23\n",
      "61354    23\n",
      "61422    23\n",
      "Name: opponentCode, dtype: int16\n"
     ]
    }
   ],
   "source": [
    "# Assuming you have a pandas DataFrame 'df' with a column 'PlayerName'\n",
    "nameToFind = \"Altmaier D.\"\n",
    "\n",
    "# Filter the DataFrame based on the player's name\n",
    "rows = matches.loc[matches[\"Player_2\"] == nameToFind, \"opponentCode\"]\n",
    "\n",
    "# Check if any rows were found\n",
    "if not rows.empty:\n",
    "    print(\"Rows for Player:\", nameToFind)\n",
    "    print(rows)\n",
    "\n",
    "else:\n",
    "    print(\"Player not found in the dataset.\")\n"
   ]
  },
  {
   "cell_type": "code",
   "execution_count": 14,
   "id": "6b6db8b4",
   "metadata": {
    "execution": {
     "iopub.execute_input": "2023-11-06T06:43:16.751053Z",
     "iopub.status.busy": "2023-11-06T06:43:16.750627Z",
     "iopub.status.idle": "2023-11-06T06:43:16.824291Z",
     "shell.execute_reply": "2023-11-06T06:43:16.822724Z"
    },
    "papermill": {
     "duration": 0.088336,
     "end_time": "2023-11-06T06:43:16.826939",
     "exception": false,
     "start_time": "2023-11-06T06:43:16.738603",
     "status": "completed"
    },
    "tags": []
   },
   "outputs": [
    {
     "name": "stdout",
     "output_type": "stream",
     "text": [
      "Predicted result: 0\n"
     ]
    },
    {
     "name": "stderr",
     "output_type": "stream",
     "text": [
      "/opt/conda/lib/python3.10/site-packages/sklearn/base.py:439: UserWarning: X does not have valid feature names, but RandomForestClassifier was fitted with feature names\n",
      "  warnings.warn(\n"
     ]
    }
   ],
   "source": [
    "# Prepare new data as a single row (a dictionary where keys are feature names and values are the feature values)\n",
    "new_data = {\n",
    "    \"playerCode\": 23,\n",
    "    \"opponentCode\": 1083,\n",
    "    \"Rank_1\": 54, \n",
    "    \"Rank_2\": 7, \n",
    "    \"Pts_1\": 911, \n",
    "    \"Pts_2\": 4280, \n",
    "    \"Odd_1\": 4.3, \n",
    "    \"Odd_2\": 1.22\n",
    "}\n",
    "\n",
    "# You may need to preprocess the new data to ensure it matches the format of your training data\n",
    "\n",
    "# Make a prediction on the new data\n",
    "prediction = rf.predict([list(new_data.values())])\n",
    "\n",
    "# The 'prediction' variable now holds the predicted result for the new data point\n",
    "print(f\"Predicted result: {prediction[0]}\")"
   ]
  },
  {
   "cell_type": "code",
   "execution_count": 15,
   "id": "cab61f06",
   "metadata": {
    "execution": {
     "iopub.execute_input": "2023-11-06T06:43:16.850543Z",
     "iopub.status.busy": "2023-11-06T06:43:16.849673Z",
     "iopub.status.idle": "2023-11-06T06:43:16.916444Z",
     "shell.execute_reply": "2023-11-06T06:43:16.914966Z"
    },
    "papermill": {
     "duration": 0.08141,
     "end_time": "2023-11-06T06:43:16.919008",
     "exception": false,
     "start_time": "2023-11-06T06:43:16.837598",
     "status": "completed"
    },
    "tags": []
   },
   "outputs": [
    {
     "name": "stdout",
     "output_type": "stream",
     "text": [
      "Predicted result: 1\n"
     ]
    },
    {
     "name": "stderr",
     "output_type": "stream",
     "text": [
      "/opt/conda/lib/python3.10/site-packages/sklearn/base.py:439: UserWarning: X does not have valid feature names, but RandomForestClassifier was fitted with feature names\n",
      "  warnings.warn(\n"
     ]
    }
   ],
   "source": [
    "# Prepare new data as a single row (a dictionary where keys are feature names and values are the feature values)\n",
    "new_data2 = {\n",
    "    \"playerCode\": 1084,\n",
    "    \"opponentCode\": 23,\n",
    "    \"Rank_1\": 7, \n",
    "    \"Rank_2\": 54, \n",
    "    \"Pts_1\": 4280, \n",
    "    \"Pts_2\": 911, \n",
    "    \"Odd_1\": 1.22, \n",
    "    \"Odd_2\": 4.3\n",
    "}\n",
    "\n",
    "# You may need to preprocess the new data to ensure it matches the format of your training data\n",
    "\n",
    "# Make a prediction on the new data\n",
    "prediction2 = rf.predict([list(new_data2.values())])\n",
    "\n",
    "# The 'prediction' variable now holds the predicted result for the new data point\n",
    "print(f\"Predicted result: {prediction2[0]}\")"
   ]
  }
 ],
 "metadata": {
  "kernelspec": {
   "display_name": "Python 3",
   "language": "python",
   "name": "python3"
  },
  "language_info": {
   "codemirror_mode": {
    "name": "ipython",
    "version": 3
   },
   "file_extension": ".py",
   "mimetype": "text/x-python",
   "name": "python",
   "nbconvert_exporter": "python",
   "pygments_lexer": "ipython3",
   "version": "3.10.12"
  },
  "papermill": {
   "default_parameters": {},
   "duration": 111.674259,
   "end_time": "2023-11-06T06:43:17.551039",
   "environment_variables": {},
   "exception": null,
   "input_path": "__notebook__.ipynb",
   "output_path": "__notebook__.ipynb",
   "parameters": {},
   "start_time": "2023-11-06T06:41:25.876780",
   "version": "2.4.0"
  }
 },
 "nbformat": 4,
 "nbformat_minor": 5
}
