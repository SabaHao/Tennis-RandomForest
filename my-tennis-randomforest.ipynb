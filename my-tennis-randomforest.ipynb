{
 "cells": [
  {
   "cell_type": "markdown",
   "id": "6544ee97",
   "metadata": {
    "papermill": {
     "duration": 0.009922,
     "end_time": "2023-11-06T09:18:55.030605",
     "exception": false,
     "start_time": "2023-11-06T09:18:55.020683",
     "status": "completed"
    },
    "tags": []
   },
   "source": [
    "**Predicting Tennis matches results with Random Forest algorithm**\n",
    "\n",
    "After understanding the dataset and how the tennis league I will try to predict the results of the matches."
   ]
  },
  {
   "cell_type": "code",
   "execution_count": 1,
   "id": "c90006fc",
   "metadata": {
    "_cell_guid": "b1076dfc-b9ad-4769-8c92-a6c4dae69d19",
    "_uuid": "8f2839f25d086af736a60e9eeb907d3b93b6e0e5",
    "execution": {
     "iopub.execute_input": "2023-11-06T09:18:55.047899Z",
     "iopub.status.busy": "2023-11-06T09:18:55.046939Z",
     "iopub.status.idle": "2023-11-06T09:18:55.945355Z",
     "shell.execute_reply": "2023-11-06T09:18:55.944158Z"
    },
    "papermill": {
     "duration": 0.911576,
     "end_time": "2023-11-06T09:18:55.949596",
     "exception": false,
     "start_time": "2023-11-06T09:18:55.038020",
     "status": "completed"
    },
    "tags": []
   },
   "outputs": [
    {
     "name": "stdout",
     "output_type": "stream",
     "text": [
      "/kaggle/input/atp-tennis-2000-2023daily-pull/atp_tennis.csv\n"
     ]
    }
   ],
   "source": [
    "# Import the packages I will need in the developemnt of my machine learning algorithm\n",
    "\n",
    "import numpy as np # linear algebra\n",
    "import pandas as pd # data processing, CSV file I/O (e.g. pd.read_csv)\n",
    "\n",
    "# Import the data set I downloaded and uploaded to Kaggle (\"Compact tennis dataset\")\n",
    "# After uploading and retrieve the file, I will ask teh program to output it's path, so that I will be able to import it.\n",
    "\n",
    "import os\n",
    "for dirname, _, filenames in os.walk('/kaggle/input'):\n",
    "    for filename in filenames:\n",
    "        print(os.path.join(dirname, filename))\n"
   ]
  },
  {
   "cell_type": "markdown",
   "id": "23fa9d9e",
   "metadata": {
    "papermill": {
     "duration": 0.006948,
     "end_time": "2023-11-06T09:18:55.964128",
     "exception": false,
     "start_time": "2023-11-06T09:18:55.957180",
     "status": "completed"
    },
    "tags": []
   },
   "source": [
    "**Showing the data for the first time**\n",
    "\n",
    "After importing the dataSets into my notebook, with the method .head() I will be able to show the first 5 rows of the DataSet, and in addittion, I will be able to take a look at the columns name, so that the develop of the algorithm will be easier.\n",
    "\n",
    "Since I have imported many .csv files, I also need to specify which file to show."
   ]
  },
  {
   "cell_type": "code",
   "execution_count": 2,
   "id": "96b384a4",
   "metadata": {
    "execution": {
     "iopub.execute_input": "2023-11-06T09:18:55.981057Z",
     "iopub.status.busy": "2023-11-06T09:18:55.980233Z",
     "iopub.status.idle": "2023-11-06T09:18:56.373787Z",
     "shell.execute_reply": "2023-11-06T09:18:56.372420Z"
    },
    "papermill": {
     "duration": 0.405277,
     "end_time": "2023-11-06T09:18:56.376622",
     "exception": false,
     "start_time": "2023-11-06T09:18:55.971345",
     "status": "completed"
    },
    "tags": []
   },
   "outputs": [
    {
     "data": {
      "text/html": [
       "<div>\n",
       "<style scoped>\n",
       "    .dataframe tbody tr th:only-of-type {\n",
       "        vertical-align: middle;\n",
       "    }\n",
       "\n",
       "    .dataframe tbody tr th {\n",
       "        vertical-align: top;\n",
       "    }\n",
       "\n",
       "    .dataframe thead th {\n",
       "        text-align: right;\n",
       "    }\n",
       "</style>\n",
       "<table border=\"1\" class=\"dataframe\">\n",
       "  <thead>\n",
       "    <tr style=\"text-align: right;\">\n",
       "      <th></th>\n",
       "      <th>Tournament</th>\n",
       "      <th>Date</th>\n",
       "      <th>Series</th>\n",
       "      <th>Court</th>\n",
       "      <th>Surface</th>\n",
       "      <th>Round</th>\n",
       "      <th>Best of</th>\n",
       "      <th>Player_1</th>\n",
       "      <th>Player_2</th>\n",
       "      <th>Winner</th>\n",
       "      <th>Rank_1</th>\n",
       "      <th>Rank_2</th>\n",
       "      <th>Pts_1</th>\n",
       "      <th>Pts_2</th>\n",
       "      <th>Odd_1</th>\n",
       "      <th>Odd_2</th>\n",
       "      <th>Score</th>\n",
       "    </tr>\n",
       "  </thead>\n",
       "  <tbody>\n",
       "    <tr>\n",
       "      <th>0</th>\n",
       "      <td>Australian Hardcourt Championships</td>\n",
       "      <td>2000-01-03</td>\n",
       "      <td>International</td>\n",
       "      <td>Outdoor</td>\n",
       "      <td>Hard</td>\n",
       "      <td>1st Round</td>\n",
       "      <td>3</td>\n",
       "      <td>Dosedel S.</td>\n",
       "      <td>Ljubicic I.</td>\n",
       "      <td>Dosedel S.</td>\n",
       "      <td>63</td>\n",
       "      <td>77</td>\n",
       "      <td>-1</td>\n",
       "      <td>-1</td>\n",
       "      <td>-1.0</td>\n",
       "      <td>-1.0</td>\n",
       "      <td>6-4 6-2</td>\n",
       "    </tr>\n",
       "    <tr>\n",
       "      <th>1</th>\n",
       "      <td>Australian Hardcourt Championships</td>\n",
       "      <td>2000-01-03</td>\n",
       "      <td>International</td>\n",
       "      <td>Outdoor</td>\n",
       "      <td>Hard</td>\n",
       "      <td>1st Round</td>\n",
       "      <td>3</td>\n",
       "      <td>Clement A.</td>\n",
       "      <td>Enqvist T.</td>\n",
       "      <td>Enqvist T.</td>\n",
       "      <td>56</td>\n",
       "      <td>5</td>\n",
       "      <td>-1</td>\n",
       "      <td>-1</td>\n",
       "      <td>-1.0</td>\n",
       "      <td>-1.0</td>\n",
       "      <td>3-6 3-6</td>\n",
       "    </tr>\n",
       "    <tr>\n",
       "      <th>2</th>\n",
       "      <td>Australian Hardcourt Championships</td>\n",
       "      <td>2000-01-03</td>\n",
       "      <td>International</td>\n",
       "      <td>Outdoor</td>\n",
       "      <td>Hard</td>\n",
       "      <td>1st Round</td>\n",
       "      <td>3</td>\n",
       "      <td>Escude N.</td>\n",
       "      <td>Baccanello P.</td>\n",
       "      <td>Escude N.</td>\n",
       "      <td>40</td>\n",
       "      <td>655</td>\n",
       "      <td>-1</td>\n",
       "      <td>-1</td>\n",
       "      <td>-1.0</td>\n",
       "      <td>-1.0</td>\n",
       "      <td>6-7 7-5 6-3</td>\n",
       "    </tr>\n",
       "    <tr>\n",
       "      <th>3</th>\n",
       "      <td>Australian Hardcourt Championships</td>\n",
       "      <td>2000-01-03</td>\n",
       "      <td>International</td>\n",
       "      <td>Outdoor</td>\n",
       "      <td>Hard</td>\n",
       "      <td>1st Round</td>\n",
       "      <td>3</td>\n",
       "      <td>Knippschild J.</td>\n",
       "      <td>Federer R.</td>\n",
       "      <td>Federer R.</td>\n",
       "      <td>87</td>\n",
       "      <td>65</td>\n",
       "      <td>-1</td>\n",
       "      <td>-1</td>\n",
       "      <td>-1.0</td>\n",
       "      <td>-1.0</td>\n",
       "      <td>1-6 4-6</td>\n",
       "    </tr>\n",
       "    <tr>\n",
       "      <th>4</th>\n",
       "      <td>Australian Hardcourt Championships</td>\n",
       "      <td>2000-01-03</td>\n",
       "      <td>International</td>\n",
       "      <td>Outdoor</td>\n",
       "      <td>Hard</td>\n",
       "      <td>1st Round</td>\n",
       "      <td>3</td>\n",
       "      <td>Fromberg R.</td>\n",
       "      <td>Woodbridge T.</td>\n",
       "      <td>Fromberg R.</td>\n",
       "      <td>81</td>\n",
       "      <td>198</td>\n",
       "      <td>-1</td>\n",
       "      <td>-1</td>\n",
       "      <td>-1.0</td>\n",
       "      <td>-1.0</td>\n",
       "      <td>7-6 5-7 6-4</td>\n",
       "    </tr>\n",
       "  </tbody>\n",
       "</table>\n",
       "</div>"
      ],
      "text/plain": [
       "                           Tournament        Date         Series    Court  \\\n",
       "0  Australian Hardcourt Championships  2000-01-03  International  Outdoor   \n",
       "1  Australian Hardcourt Championships  2000-01-03  International  Outdoor   \n",
       "2  Australian Hardcourt Championships  2000-01-03  International  Outdoor   \n",
       "3  Australian Hardcourt Championships  2000-01-03  International  Outdoor   \n",
       "4  Australian Hardcourt Championships  2000-01-03  International  Outdoor   \n",
       "\n",
       "  Surface      Round  Best of        Player_1       Player_2       Winner  \\\n",
       "0    Hard  1st Round        3      Dosedel S.    Ljubicic I.   Dosedel S.   \n",
       "1    Hard  1st Round        3      Clement A.     Enqvist T.   Enqvist T.   \n",
       "2    Hard  1st Round        3       Escude N.  Baccanello P.    Escude N.   \n",
       "3    Hard  1st Round        3  Knippschild J.     Federer R.   Federer R.   \n",
       "4    Hard  1st Round        3     Fromberg R.  Woodbridge T.  Fromberg R.   \n",
       "\n",
       "   Rank_1  Rank_2  Pts_1  Pts_2  Odd_1  Odd_2           Score  \n",
       "0      63      77     -1     -1   -1.0   -1.0     6-4 6-2      \n",
       "1      56       5     -1     -1   -1.0   -1.0     3-6 3-6      \n",
       "2      40     655     -1     -1   -1.0   -1.0  6-7 7-5 6-3     \n",
       "3      87      65     -1     -1   -1.0   -1.0     1-6 4-6      \n",
       "4      81     198     -1     -1   -1.0   -1.0  7-6 5-7 6-4     "
      ]
     },
     "execution_count": 2,
     "metadata": {},
     "output_type": "execute_result"
    }
   ],
   "source": [
    "matches = pd.read_csv(\"/kaggle/input/atp-tennis-2000-2023daily-pull/atp_tennis.csv\")\n",
    "matches.head()"
   ]
  },
  {
   "cell_type": "markdown",
   "id": "2b164606",
   "metadata": {
    "papermill": {
     "duration": 0.007213,
     "end_time": "2023-11-06T09:18:56.391503",
     "exception": false,
     "start_time": "2023-11-06T09:18:56.384290",
     "status": "completed"
    },
    "tags": []
   },
   "source": [
    "**Understand better the Shape of the Dataset**\n",
    "\n",
    "After taking a first look at the DataSet we can take a look at the shape of it, which means how many column and rows the file actually have, in this case we start working on the DataSet when the overall shape of it it's going to be 61441 rows an 17 columns"
   ]
  },
  {
   "cell_type": "code",
   "execution_count": 3,
   "id": "b4c48137",
   "metadata": {
    "execution": {
     "iopub.execute_input": "2023-11-06T09:18:56.408623Z",
     "iopub.status.busy": "2023-11-06T09:18:56.408174Z",
     "iopub.status.idle": "2023-11-06T09:18:56.416031Z",
     "shell.execute_reply": "2023-11-06T09:18:56.414722Z"
    },
    "papermill": {
     "duration": 0.020201,
     "end_time": "2023-11-06T09:18:56.419343",
     "exception": false,
     "start_time": "2023-11-06T09:18:56.399142",
     "status": "completed"
    },
    "tags": []
   },
   "outputs": [
    {
     "data": {
      "text/plain": [
       "(61441, 17)"
      ]
     },
     "execution_count": 3,
     "metadata": {},
     "output_type": "execute_result"
    }
   ],
   "source": [
    "# Shows how many columns and row are in the dataset\n",
    "matches.shape"
   ]
  },
  {
   "cell_type": "markdown",
   "id": "361c816d",
   "metadata": {
    "papermill": {
     "duration": 0.007512,
     "end_time": "2023-11-06T09:18:56.435215",
     "exception": false,
     "start_time": "2023-11-06T09:18:56.427703",
     "status": "completed"
    },
    "tags": []
   },
   "source": [
    "**Fixing the datatypes**\n",
    "\n",
    "For most of machine algorithm to work, they must work with integers DataType, and the Random Forest also need. So we have to convert some of the DataType from object into integer, or into some kind of integers. First of all we have to check what DataType we have in our DataSet, then we can choose the Data we want to work with, and if they are not integers already we have to convert it."
   ]
  },
  {
   "cell_type": "code",
   "execution_count": 4,
   "id": "9277ab25",
   "metadata": {
    "execution": {
     "iopub.execute_input": "2023-11-06T09:18:56.452831Z",
     "iopub.status.busy": "2023-11-06T09:18:56.452433Z",
     "iopub.status.idle": "2023-11-06T09:18:56.492975Z",
     "shell.execute_reply": "2023-11-06T09:18:56.491478Z"
    },
    "papermill": {
     "duration": 0.052643,
     "end_time": "2023-11-06T09:18:56.495616",
     "exception": false,
     "start_time": "2023-11-06T09:18:56.442973",
     "status": "completed"
    },
    "tags": []
   },
   "outputs": [
    {
     "data": {
      "text/plain": [
       "Tournament            object\n",
       "Date                  object\n",
       "Series                object\n",
       "Court                 object\n",
       "Surface               object\n",
       "Round                 object\n",
       "Best of                int64\n",
       "Player_1              object\n",
       "Player_2              object\n",
       "Winner                object\n",
       "Rank_1                 int64\n",
       "Rank_2                 int64\n",
       "Pts_1                  int64\n",
       "Pts_2                  int64\n",
       "Odd_1                float64\n",
       "Odd_2                float64\n",
       "Score                 object\n",
       "date          datetime64[ns]\n",
       "dtype: object"
      ]
     },
     "execution_count": 4,
     "metadata": {},
     "output_type": "execute_result"
    }
   ],
   "source": [
    "# Check what DataType we have in our DataSet\n",
    "matches[\"date\"] = pd.to_datetime(matches[\"Date\"])\n",
    "matches.dtypes"
   ]
  },
  {
   "cell_type": "markdown",
   "id": "2c8cc800",
   "metadata": {
    "papermill": {
     "duration": 0.007556,
     "end_time": "2023-11-06T09:18:56.511275",
     "exception": false,
     "start_time": "2023-11-06T09:18:56.503719",
     "status": "completed"
    },
    "tags": []
   },
   "source": [
    "**Converting the Date type**\n",
    "\n",
    "Here I decided to only convert the Date column, but in order to increase the accuracy, in the future more columns may be converted and used in teh algorithm"
   ]
  },
  {
   "cell_type": "markdown",
   "id": "b3f257bf",
   "metadata": {
    "papermill": {
     "duration": 0.007633,
     "end_time": "2023-11-06T09:18:56.526815",
     "exception": false,
     "start_time": "2023-11-06T09:18:56.519182",
     "status": "completed"
    },
    "tags": []
   },
   "source": [
    "**Creating the Predictors**\n",
    "\n",
    "In the Random Forest algorithm, predictors, also known as features or independent variables, are the variables used to make predictions. These predictors are the characteristics or attributes of the data that are input into the algorithm to train the model and subsequently used to make predictions on new, unseen data.\n",
    "\n",
    "In the context of predicting Premier League football matches, our predictors will include various features related to the result, opponents, time and day of the week. In order to increase the accuracy these predictors might include team statistics (e.g., previous match results, goal difference, number of goals scored), player performance metrics (e.g., goals, assists, yellow cards), historical data (e.g., head-to-head records, past performance in similar scenarios), and various other factors that might influence the outcome of a match."
   ]
  },
  {
   "cell_type": "code",
   "execution_count": 5,
   "id": "33d672a8",
   "metadata": {
    "execution": {
     "iopub.execute_input": "2023-11-06T09:18:56.544266Z",
     "iopub.status.busy": "2023-11-06T09:18:56.543868Z",
     "iopub.status.idle": "2023-11-06T09:18:56.602987Z",
     "shell.execute_reply": "2023-11-06T09:18:56.601699Z"
    },
    "papermill": {
     "duration": 0.071137,
     "end_time": "2023-11-06T09:18:56.605817",
     "exception": false,
     "start_time": "2023-11-06T09:18:56.534680",
     "status": "completed"
    },
    "tags": []
   },
   "outputs": [],
   "source": [
    "# Create a new column representing the Indoor or Outdoor value\n",
    "matches[\"courtType\"] = matches[\"Court\"].astype(\"category\").cat.codes\n",
    "\n",
    "# Create a new column representing the kind of surface\n",
    "matches[\"groundType\"] = matches[\"Surface\"].astype(\"category\").cat.codes\n",
    "\n",
    "# Create a new column representing a code for each opponent\n",
    "matches[\"opponentCode\"] = matches[\"Player_2\"].astype(\"category\").cat.codes\n",
    "\n",
    "# Create a new column representing a code for each opponent\n",
    "matches[\"playerCode\"] = matches[\"Player_1\"].astype(\"category\").cat.codes\n",
    "\n",
    "\n",
    "# Create a new column representing if the player1 won the game with a 1 or if it didn't with a 0\n",
    "matches[\"target\"] = (matches[\"Winner\"] == matches[\"Player_1\"]).astype(\"int\")\n"
   ]
  },
  {
   "cell_type": "code",
   "execution_count": 6,
   "id": "145cd59d",
   "metadata": {
    "execution": {
     "iopub.execute_input": "2023-11-06T09:18:56.624058Z",
     "iopub.status.busy": "2023-11-06T09:18:56.623209Z",
     "iopub.status.idle": "2023-11-06T09:18:56.699353Z",
     "shell.execute_reply": "2023-11-06T09:18:56.698076Z"
    },
    "papermill": {
     "duration": 0.088694,
     "end_time": "2023-11-06T09:18:56.702605",
     "exception": false,
     "start_time": "2023-11-06T09:18:56.613911",
     "status": "completed"
    },
    "tags": []
   },
   "outputs": [
    {
     "data": {
      "text/html": [
       "<div>\n",
       "<style scoped>\n",
       "    .dataframe tbody tr th:only-of-type {\n",
       "        vertical-align: middle;\n",
       "    }\n",
       "\n",
       "    .dataframe tbody tr th {\n",
       "        vertical-align: top;\n",
       "    }\n",
       "\n",
       "    .dataframe thead th {\n",
       "        text-align: right;\n",
       "    }\n",
       "</style>\n",
       "<table border=\"1\" class=\"dataframe\">\n",
       "  <thead>\n",
       "    <tr style=\"text-align: right;\">\n",
       "      <th></th>\n",
       "      <th>Tournament</th>\n",
       "      <th>Date</th>\n",
       "      <th>Series</th>\n",
       "      <th>Court</th>\n",
       "      <th>Surface</th>\n",
       "      <th>Round</th>\n",
       "      <th>Best of</th>\n",
       "      <th>Player_1</th>\n",
       "      <th>Player_2</th>\n",
       "      <th>Winner</th>\n",
       "      <th>...</th>\n",
       "      <th>Pts_2</th>\n",
       "      <th>Odd_1</th>\n",
       "      <th>Odd_2</th>\n",
       "      <th>Score</th>\n",
       "      <th>date</th>\n",
       "      <th>courtType</th>\n",
       "      <th>groundType</th>\n",
       "      <th>opponentCode</th>\n",
       "      <th>playerCode</th>\n",
       "      <th>target</th>\n",
       "    </tr>\n",
       "  </thead>\n",
       "  <tbody>\n",
       "    <tr>\n",
       "      <th>0</th>\n",
       "      <td>Australian Hardcourt Championships</td>\n",
       "      <td>2000-01-03</td>\n",
       "      <td>International</td>\n",
       "      <td>Outdoor</td>\n",
       "      <td>Hard</td>\n",
       "      <td>1st Round</td>\n",
       "      <td>3</td>\n",
       "      <td>Dosedel S.</td>\n",
       "      <td>Ljubicic I.</td>\n",
       "      <td>Dosedel S.</td>\n",
       "      <td>...</td>\n",
       "      <td>-1</td>\n",
       "      <td>-1.00</td>\n",
       "      <td>-1.00</td>\n",
       "      <td>6-4 6-2</td>\n",
       "      <td>2000-01-03</td>\n",
       "      <td>1</td>\n",
       "      <td>3</td>\n",
       "      <td>730</td>\n",
       "      <td>313</td>\n",
       "      <td>1</td>\n",
       "    </tr>\n",
       "    <tr>\n",
       "      <th>1</th>\n",
       "      <td>Australian Hardcourt Championships</td>\n",
       "      <td>2000-01-03</td>\n",
       "      <td>International</td>\n",
       "      <td>Outdoor</td>\n",
       "      <td>Hard</td>\n",
       "      <td>1st Round</td>\n",
       "      <td>3</td>\n",
       "      <td>Clement A.</td>\n",
       "      <td>Enqvist T.</td>\n",
       "      <td>Enqvist T.</td>\n",
       "      <td>...</td>\n",
       "      <td>-1</td>\n",
       "      <td>-1.00</td>\n",
       "      <td>-1.00</td>\n",
       "      <td>3-6 3-6</td>\n",
       "      <td>2000-01-03</td>\n",
       "      <td>1</td>\n",
       "      <td>3</td>\n",
       "      <td>349</td>\n",
       "      <td>226</td>\n",
       "      <td>0</td>\n",
       "    </tr>\n",
       "    <tr>\n",
       "      <th>2</th>\n",
       "      <td>Australian Hardcourt Championships</td>\n",
       "      <td>2000-01-03</td>\n",
       "      <td>International</td>\n",
       "      <td>Outdoor</td>\n",
       "      <td>Hard</td>\n",
       "      <td>1st Round</td>\n",
       "      <td>3</td>\n",
       "      <td>Escude N.</td>\n",
       "      <td>Baccanello P.</td>\n",
       "      <td>Escude N.</td>\n",
       "      <td>...</td>\n",
       "      <td>-1</td>\n",
       "      <td>-1.00</td>\n",
       "      <td>-1.00</td>\n",
       "      <td>6-7 7-5 6-3</td>\n",
       "      <td>2000-01-03</td>\n",
       "      <td>1</td>\n",
       "      <td>3</td>\n",
       "      <td>62</td>\n",
       "      <td>351</td>\n",
       "      <td>1</td>\n",
       "    </tr>\n",
       "    <tr>\n",
       "      <th>3</th>\n",
       "      <td>Australian Hardcourt Championships</td>\n",
       "      <td>2000-01-03</td>\n",
       "      <td>International</td>\n",
       "      <td>Outdoor</td>\n",
       "      <td>Hard</td>\n",
       "      <td>1st Round</td>\n",
       "      <td>3</td>\n",
       "      <td>Knippschild J.</td>\n",
       "      <td>Federer R.</td>\n",
       "      <td>Federer R.</td>\n",
       "      <td>...</td>\n",
       "      <td>-1</td>\n",
       "      <td>-1.00</td>\n",
       "      <td>-1.00</td>\n",
       "      <td>1-6 4-6</td>\n",
       "      <td>2000-01-03</td>\n",
       "      <td>1</td>\n",
       "      <td>3</td>\n",
       "      <td>369</td>\n",
       "      <td>634</td>\n",
       "      <td>0</td>\n",
       "    </tr>\n",
       "    <tr>\n",
       "      <th>4</th>\n",
       "      <td>Australian Hardcourt Championships</td>\n",
       "      <td>2000-01-03</td>\n",
       "      <td>International</td>\n",
       "      <td>Outdoor</td>\n",
       "      <td>Hard</td>\n",
       "      <td>1st Round</td>\n",
       "      <td>3</td>\n",
       "      <td>Fromberg R.</td>\n",
       "      <td>Woodbridge T.</td>\n",
       "      <td>Fromberg R.</td>\n",
       "      <td>...</td>\n",
       "      <td>-1</td>\n",
       "      <td>-1.00</td>\n",
       "      <td>-1.00</td>\n",
       "      <td>7-6 5-7 6-4</td>\n",
       "      <td>2000-01-03</td>\n",
       "      <td>1</td>\n",
       "      <td>3</td>\n",
       "      <td>1367</td>\n",
       "      <td>397</td>\n",
       "      <td>1</td>\n",
       "    </tr>\n",
       "    <tr>\n",
       "      <th>...</th>\n",
       "      <td>...</td>\n",
       "      <td>...</td>\n",
       "      <td>...</td>\n",
       "      <td>...</td>\n",
       "      <td>...</td>\n",
       "      <td>...</td>\n",
       "      <td>...</td>\n",
       "      <td>...</td>\n",
       "      <td>...</td>\n",
       "      <td>...</td>\n",
       "      <td>...</td>\n",
       "      <td>...</td>\n",
       "      <td>...</td>\n",
       "      <td>...</td>\n",
       "      <td>...</td>\n",
       "      <td>...</td>\n",
       "      <td>...</td>\n",
       "      <td>...</td>\n",
       "      <td>...</td>\n",
       "      <td>...</td>\n",
       "      <td>...</td>\n",
       "    </tr>\n",
       "    <tr>\n",
       "      <th>61436</th>\n",
       "      <td>Vienna Open</td>\n",
       "      <td>2023-10-27</td>\n",
       "      <td>ATP500</td>\n",
       "      <td>Indoor</td>\n",
       "      <td>Hard</td>\n",
       "      <td>Quarterfinals</td>\n",
       "      <td>3</td>\n",
       "      <td>Rublev A.</td>\n",
       "      <td>Zverev A.</td>\n",
       "      <td>Rublev A.</td>\n",
       "      <td>...</td>\n",
       "      <td>3460</td>\n",
       "      <td>2.00</td>\n",
       "      <td>1.80</td>\n",
       "      <td>6-1 6-7 6-3</td>\n",
       "      <td>2023-10-27</td>\n",
       "      <td>0</td>\n",
       "      <td>3</td>\n",
       "      <td>1407</td>\n",
       "      <td>1082</td>\n",
       "      <td>1</td>\n",
       "    </tr>\n",
       "    <tr>\n",
       "      <th>61437</th>\n",
       "      <td>Vienna Open</td>\n",
       "      <td>2023-10-27</td>\n",
       "      <td>ATP500</td>\n",
       "      <td>Indoor</td>\n",
       "      <td>Hard</td>\n",
       "      <td>Quarterfinals</td>\n",
       "      <td>3</td>\n",
       "      <td>Tiafoe F.</td>\n",
       "      <td>Sinner J.</td>\n",
       "      <td>Sinner J.</td>\n",
       "      <td>...</td>\n",
       "      <td>5000</td>\n",
       "      <td>4.33</td>\n",
       "      <td>1.22</td>\n",
       "      <td>3-6 4-6</td>\n",
       "      <td>2023-10-27</td>\n",
       "      <td>0</td>\n",
       "      <td>3</td>\n",
       "      <td>1162</td>\n",
       "      <td>1250</td>\n",
       "      <td>0</td>\n",
       "    </tr>\n",
       "    <tr>\n",
       "      <th>61438</th>\n",
       "      <td>Vienna Open</td>\n",
       "      <td>2023-10-28</td>\n",
       "      <td>ATP500</td>\n",
       "      <td>Indoor</td>\n",
       "      <td>Hard</td>\n",
       "      <td>Semifinals</td>\n",
       "      <td>3</td>\n",
       "      <td>Medvedev D.</td>\n",
       "      <td>Tsitsipas S.</td>\n",
       "      <td>Medvedev D.</td>\n",
       "      <td>...</td>\n",
       "      <td>4300</td>\n",
       "      <td>1.33</td>\n",
       "      <td>3.40</td>\n",
       "      <td>6-4 7-6</td>\n",
       "      <td>2023-10-28</td>\n",
       "      <td>0</td>\n",
       "      <td>3</td>\n",
       "      <td>1267</td>\n",
       "      <td>819</td>\n",
       "      <td>1</td>\n",
       "    </tr>\n",
       "    <tr>\n",
       "      <th>61439</th>\n",
       "      <td>Vienna Open</td>\n",
       "      <td>2023-10-28</td>\n",
       "      <td>ATP500</td>\n",
       "      <td>Indoor</td>\n",
       "      <td>Hard</td>\n",
       "      <td>Semifinals</td>\n",
       "      <td>3</td>\n",
       "      <td>Rublev A.</td>\n",
       "      <td>Sinner J.</td>\n",
       "      <td>Sinner J.</td>\n",
       "      <td>...</td>\n",
       "      <td>5000</td>\n",
       "      <td>2.63</td>\n",
       "      <td>1.50</td>\n",
       "      <td>5-7 6-7</td>\n",
       "      <td>2023-10-28</td>\n",
       "      <td>0</td>\n",
       "      <td>3</td>\n",
       "      <td>1162</td>\n",
       "      <td>1082</td>\n",
       "      <td>0</td>\n",
       "    </tr>\n",
       "    <tr>\n",
       "      <th>61440</th>\n",
       "      <td>Vienna Open</td>\n",
       "      <td>2023-10-29</td>\n",
       "      <td>ATP500</td>\n",
       "      <td>Indoor</td>\n",
       "      <td>Hard</td>\n",
       "      <td>The Final</td>\n",
       "      <td>3</td>\n",
       "      <td>Sinner J.</td>\n",
       "      <td>Medvedev D.</td>\n",
       "      <td>Sinner J.</td>\n",
       "      <td>...</td>\n",
       "      <td>7355</td>\n",
       "      <td>2.00</td>\n",
       "      <td>1.80</td>\n",
       "      <td>7-6 4-6 6-3</td>\n",
       "      <td>2023-10-29</td>\n",
       "      <td>0</td>\n",
       "      <td>3</td>\n",
       "      <td>812</td>\n",
       "      <td>1176</td>\n",
       "      <td>1</td>\n",
       "    </tr>\n",
       "  </tbody>\n",
       "</table>\n",
       "<p>61441 rows × 23 columns</p>\n",
       "</div>"
      ],
      "text/plain": [
       "                               Tournament        Date         Series    Court  \\\n",
       "0      Australian Hardcourt Championships  2000-01-03  International  Outdoor   \n",
       "1      Australian Hardcourt Championships  2000-01-03  International  Outdoor   \n",
       "2      Australian Hardcourt Championships  2000-01-03  International  Outdoor   \n",
       "3      Australian Hardcourt Championships  2000-01-03  International  Outdoor   \n",
       "4      Australian Hardcourt Championships  2000-01-03  International  Outdoor   \n",
       "...                                   ...         ...            ...      ...   \n",
       "61436                         Vienna Open  2023-10-27         ATP500   Indoor   \n",
       "61437                         Vienna Open  2023-10-27         ATP500   Indoor   \n",
       "61438                         Vienna Open  2023-10-28         ATP500   Indoor   \n",
       "61439                         Vienna Open  2023-10-28         ATP500   Indoor   \n",
       "61440                         Vienna Open  2023-10-29         ATP500   Indoor   \n",
       "\n",
       "      Surface          Round  Best of        Player_1       Player_2  \\\n",
       "0        Hard      1st Round        3      Dosedel S.    Ljubicic I.   \n",
       "1        Hard      1st Round        3      Clement A.     Enqvist T.   \n",
       "2        Hard      1st Round        3       Escude N.  Baccanello P.   \n",
       "3        Hard      1st Round        3  Knippschild J.     Federer R.   \n",
       "4        Hard      1st Round        3     Fromberg R.  Woodbridge T.   \n",
       "...       ...            ...      ...             ...            ...   \n",
       "61436    Hard  Quarterfinals        3       Rublev A.      Zverev A.   \n",
       "61437    Hard  Quarterfinals        3       Tiafoe F.      Sinner J.   \n",
       "61438    Hard     Semifinals        3     Medvedev D.   Tsitsipas S.   \n",
       "61439    Hard     Semifinals        3       Rublev A.      Sinner J.   \n",
       "61440    Hard      The Final        3       Sinner J.    Medvedev D.   \n",
       "\n",
       "            Winner  ...  Pts_2  Odd_1  Odd_2           Score       date  \\\n",
       "0       Dosedel S.  ...     -1  -1.00  -1.00     6-4 6-2     2000-01-03   \n",
       "1       Enqvist T.  ...     -1  -1.00  -1.00     3-6 3-6     2000-01-03   \n",
       "2        Escude N.  ...     -1  -1.00  -1.00  6-7 7-5 6-3    2000-01-03   \n",
       "3       Federer R.  ...     -1  -1.00  -1.00     1-6 4-6     2000-01-03   \n",
       "4      Fromberg R.  ...     -1  -1.00  -1.00  7-6 5-7 6-4    2000-01-03   \n",
       "...            ...  ...    ...    ...    ...             ...        ...   \n",
       "61436    Rublev A.  ...   3460   2.00   1.80  6-1 6-7 6-3    2023-10-27   \n",
       "61437    Sinner J.  ...   5000   4.33   1.22     3-6 4-6     2023-10-27   \n",
       "61438  Medvedev D.  ...   4300   1.33   3.40     6-4 7-6     2023-10-28   \n",
       "61439    Sinner J.  ...   5000   2.63   1.50     5-7 6-7     2023-10-28   \n",
       "61440    Sinner J.  ...   7355   2.00   1.80  7-6 4-6 6-3    2023-10-29   \n",
       "\n",
       "       courtType groundType opponentCode  playerCode  target  \n",
       "0              1          3          730         313       1  \n",
       "1              1          3          349         226       0  \n",
       "2              1          3           62         351       1  \n",
       "3              1          3          369         634       0  \n",
       "4              1          3         1367         397       1  \n",
       "...          ...        ...          ...         ...     ...  \n",
       "61436          0          3         1407        1082       1  \n",
       "61437          0          3         1162        1250       0  \n",
       "61438          0          3         1267         819       1  \n",
       "61439          0          3         1162        1082       0  \n",
       "61440          0          3          812        1176       1  \n",
       "\n",
       "[61441 rows x 23 columns]"
      ]
     },
     "execution_count": 6,
     "metadata": {},
     "output_type": "execute_result"
    }
   ],
   "source": [
    "matches"
   ]
  },
  {
   "cell_type": "markdown",
   "id": "6dec2627",
   "metadata": {
    "papermill": {
     "duration": 0.008394,
     "end_time": "2023-11-06T09:18:56.719881",
     "exception": false,
     "start_time": "2023-11-06T09:18:56.711487",
     "status": "completed"
    },
    "tags": []
   },
   "source": [
    "**Training the model**\n",
    "\n",
    "As soon as our basic predictors are created and added to the DataSet, we are able to Train our model. Training is one of the most, if not the most important part of our machine learnig algorithm, in my case, I decided to use all the data until the year 2023 as Training Data, and all the Data after the 2023 as testing data."
   ]
  },
  {
   "cell_type": "markdown",
   "id": "ccf3c9e9",
   "metadata": {
    "papermill": {
     "duration": 0.008516,
     "end_time": "2023-11-06T09:18:56.737128",
     "exception": false,
     "start_time": "2023-11-06T09:18:56.728612",
     "status": "completed"
    },
    "tags": []
   },
   "source": [
    "**Random Forest algorithm**\n",
    "\n",
    "During the training phase of the Random Forest algorithm, each decision tree is trained to predict the target variable (in this case, the outcome of the Premier League football match) based on the subset of predictors assigned to it. The algorithm determines the importance of each predictor by measuring how much it contributes to reducing the impurity or increasing the information gain in the decision tree.\n",
    "\n",
    "When making predictions with the trained Random Forest model, the algorithm combines the predictions of all the decision trees by averaging (for regression problems) or voting (for classification problems) to generate the final prediction. Each decision tree contributes its own prediction based on the assigned subset of predictors, and the final prediction is determined by the collective wisdom of the entire ensemble.\n",
    "\n",
    "In summary, predictors in the Random Forest algorithm are the input variables that capture the relevant information and characteristics of the data used to train the model. These predictors are used by individual decision trees within the ensemble to make predictions, and the algorithm combines the predictions of all the decision trees to produce the final prediction."
   ]
  },
  {
   "cell_type": "code",
   "execution_count": 7,
   "id": "92d8c29f",
   "metadata": {
    "execution": {
     "iopub.execute_input": "2023-11-06T09:18:56.756359Z",
     "iopub.status.busy": "2023-11-06T09:18:56.755899Z",
     "iopub.status.idle": "2023-11-06T09:20:44.621801Z",
     "shell.execute_reply": "2023-11-06T09:20:44.620425Z"
    },
    "papermill": {
     "duration": 107.886015,
     "end_time": "2023-11-06T09:20:44.631864",
     "exception": false,
     "start_time": "2023-11-06T09:18:56.745849",
     "status": "completed"
    },
    "tags": []
   },
   "outputs": [
    {
     "data": {
      "text/html": [
       "<style>#sk-container-id-1 {color: black;background-color: white;}#sk-container-id-1 pre{padding: 0;}#sk-container-id-1 div.sk-toggleable {background-color: white;}#sk-container-id-1 label.sk-toggleable__label {cursor: pointer;display: block;width: 100%;margin-bottom: 0;padding: 0.3em;box-sizing: border-box;text-align: center;}#sk-container-id-1 label.sk-toggleable__label-arrow:before {content: \"▸\";float: left;margin-right: 0.25em;color: #696969;}#sk-container-id-1 label.sk-toggleable__label-arrow:hover:before {color: black;}#sk-container-id-1 div.sk-estimator:hover label.sk-toggleable__label-arrow:before {color: black;}#sk-container-id-1 div.sk-toggleable__content {max-height: 0;max-width: 0;overflow: hidden;text-align: left;background-color: #f0f8ff;}#sk-container-id-1 div.sk-toggleable__content pre {margin: 0.2em;color: black;border-radius: 0.25em;background-color: #f0f8ff;}#sk-container-id-1 input.sk-toggleable__control:checked~div.sk-toggleable__content {max-height: 200px;max-width: 100%;overflow: auto;}#sk-container-id-1 input.sk-toggleable__control:checked~label.sk-toggleable__label-arrow:before {content: \"▾\";}#sk-container-id-1 div.sk-estimator input.sk-toggleable__control:checked~label.sk-toggleable__label {background-color: #d4ebff;}#sk-container-id-1 div.sk-label input.sk-toggleable__control:checked~label.sk-toggleable__label {background-color: #d4ebff;}#sk-container-id-1 input.sk-hidden--visually {border: 0;clip: rect(1px 1px 1px 1px);clip: rect(1px, 1px, 1px, 1px);height: 1px;margin: -1px;overflow: hidden;padding: 0;position: absolute;width: 1px;}#sk-container-id-1 div.sk-estimator {font-family: monospace;background-color: #f0f8ff;border: 1px dotted black;border-radius: 0.25em;box-sizing: border-box;margin-bottom: 0.5em;}#sk-container-id-1 div.sk-estimator:hover {background-color: #d4ebff;}#sk-container-id-1 div.sk-parallel-item::after {content: \"\";width: 100%;border-bottom: 1px solid gray;flex-grow: 1;}#sk-container-id-1 div.sk-label:hover label.sk-toggleable__label {background-color: #d4ebff;}#sk-container-id-1 div.sk-serial::before {content: \"\";position: absolute;border-left: 1px solid gray;box-sizing: border-box;top: 0;bottom: 0;left: 50%;z-index: 0;}#sk-container-id-1 div.sk-serial {display: flex;flex-direction: column;align-items: center;background-color: white;padding-right: 0.2em;padding-left: 0.2em;position: relative;}#sk-container-id-1 div.sk-item {position: relative;z-index: 1;}#sk-container-id-1 div.sk-parallel {display: flex;align-items: stretch;justify-content: center;background-color: white;position: relative;}#sk-container-id-1 div.sk-item::before, #sk-container-id-1 div.sk-parallel-item::before {content: \"\";position: absolute;border-left: 1px solid gray;box-sizing: border-box;top: 0;bottom: 0;left: 50%;z-index: -1;}#sk-container-id-1 div.sk-parallel-item {display: flex;flex-direction: column;z-index: 1;position: relative;background-color: white;}#sk-container-id-1 div.sk-parallel-item:first-child::after {align-self: flex-end;width: 50%;}#sk-container-id-1 div.sk-parallel-item:last-child::after {align-self: flex-start;width: 50%;}#sk-container-id-1 div.sk-parallel-item:only-child::after {width: 0;}#sk-container-id-1 div.sk-dashed-wrapped {border: 1px dashed gray;margin: 0 0.4em 0.5em 0.4em;box-sizing: border-box;padding-bottom: 0.4em;background-color: white;}#sk-container-id-1 div.sk-label label {font-family: monospace;font-weight: bold;display: inline-block;line-height: 1.2em;}#sk-container-id-1 div.sk-label-container {text-align: center;}#sk-container-id-1 div.sk-container {/* jupyter's `normalize.less` sets `[hidden] { display: none; }` but bootstrap.min.css set `[hidden] { display: none !important; }` so we also need the `!important` here to be able to override the default hidden behavior on the sphinx rendered scikit-learn.org. See: https://github.com/scikit-learn/scikit-learn/issues/21755 */display: inline-block !important;position: relative;}#sk-container-id-1 div.sk-text-repr-fallback {display: none;}</style><div id=\"sk-container-id-1\" class=\"sk-top-container\"><div class=\"sk-text-repr-fallback\"><pre>RandomForestClassifier(min_samples_split=15, n_estimators=1000, random_state=1)</pre><b>In a Jupyter environment, please rerun this cell to show the HTML representation or trust the notebook. <br />On GitHub, the HTML representation is unable to render, please try loading this page with nbviewer.org.</b></div><div class=\"sk-container\" hidden><div class=\"sk-item\"><div class=\"sk-estimator sk-toggleable\"><input class=\"sk-toggleable__control sk-hidden--visually\" id=\"sk-estimator-id-1\" type=\"checkbox\" checked><label for=\"sk-estimator-id-1\" class=\"sk-toggleable__label sk-toggleable__label-arrow\">RandomForestClassifier</label><div class=\"sk-toggleable__content\"><pre>RandomForestClassifier(min_samples_split=15, n_estimators=1000, random_state=1)</pre></div></div></div></div></div>"
      ],
      "text/plain": [
       "RandomForestClassifier(min_samples_split=15, n_estimators=1000, random_state=1)"
      ]
     },
     "execution_count": 7,
     "metadata": {},
     "output_type": "execute_result"
    }
   ],
   "source": [
    "# Training the machine learning model \n",
    "from sklearn.ensemble import RandomForestClassifier\n",
    "\n",
    "rf = RandomForestClassifier(n_estimators = 1000, min_samples_split = 15, random_state = 1)\n",
    "\n",
    "# Divide the dataset into train and test sections\n",
    "conditionDate = matches['date'] > '2005-01-01'\n",
    "conditionDate2 = matches['date'] < '2023-10-29'\n",
    "combinedCondition = conditionDate & conditionDate2 \n",
    "train = matches[combinedCondition]\n",
    "\n",
    "test = matches[matches[\"date\"] > '2023-6-01']\n",
    "\n",
    "# A list of all the prdictors \n",
    "predictors = [\"playerCode\", \"opponentCode\", \"Rank_1\", \"Rank_2\", \"Pts_1\", \"Pts_2\", \"Odd_1\", \"Odd_2\"]\n",
    "\n",
    "# Fit the random forest model, fitting the predictors and trying to predict the target\n",
    "rf.fit(train[predictors], train[\"target\"])"
   ]
  },
  {
   "cell_type": "markdown",
   "id": "82d1029d",
   "metadata": {
    "papermill": {
     "duration": 0.00871,
     "end_time": "2023-11-06T09:20:44.649276",
     "exception": false,
     "start_time": "2023-11-06T09:20:44.640566",
     "status": "completed"
    },
    "tags": []
   },
   "source": [
    "**Getting the players Features for the First prediction**\n",
    "\n",
    "After we have all the predictors ready, we need to find out what's the actual ID of the player and the opponent, so that we can use those features to calculate our first prediction"
   ]
  },
  {
   "cell_type": "code",
   "execution_count": 8,
   "id": "79d24fb0",
   "metadata": {
    "execution": {
     "iopub.execute_input": "2023-11-06T09:20:44.669366Z",
     "iopub.status.busy": "2023-11-06T09:20:44.668924Z",
     "iopub.status.idle": "2023-11-06T09:20:44.725941Z",
     "shell.execute_reply": "2023-11-06T09:20:44.724898Z"
    },
    "papermill": {
     "duration": 0.070302,
     "end_time": "2023-11-06T09:20:44.728491",
     "exception": false,
     "start_time": "2023-11-06T09:20:44.658189",
     "status": "completed"
    },
    "tags": []
   },
   "outputs": [
    {
     "name": "stdout",
     "output_type": "stream",
     "text": [
      "ID for PLAYER: Shevchenko A.\n",
      "1159\n",
      "Player not found in the dataset.\n",
      " \n",
      "CHANGE OF PLAYERS\n",
      " \n",
      "Player not found in the dataset.\n",
      "ID for OPPONENT: Shevchenko A.\n",
      "1150\n"
     ]
    }
   ],
   "source": [
    "firstPlayer = \"Shevchenko A.\"\n",
    "firstOpponent = \"Bourgue M..\"\n",
    "\n",
    "rows = matches.loc[matches[\"Player_1\"] == firstPlayer, \"playerCode\"]\n",
    "if not rows.empty:\n",
    "    print(\"ID for PLAYER:\", firstPlayer)\n",
    "    print(rows.iloc[0])\n",
    "else:\n",
    "    print(\"Player not found in the dataset.\")\n",
    "\n",
    "rows = matches.loc[matches[\"Player_2\"] == firstOpponent, \"opponentCode\"]\n",
    "if not rows.empty:\n",
    "    print(\"ID for OPPONENT:\", firstOpponent)\n",
    "    print(rows.iloc[0])\n",
    "else:\n",
    "    print(\"Player not found in the dataset.\")\n",
    "\n",
    "# Change the Player and opponent \n",
    "print(\" \")\n",
    "print(\"CHANGE OF PLAYERS\")\n",
    "print(\" \")\n",
    "\n",
    "secondPlayer = firstOpponent\n",
    "secondOpponent = firstPlayer\n",
    "    \n",
    "rows = matches.loc[matches[\"Player_1\"] == secondPlayer, \"playerCode\"]\n",
    "if not rows.empty:\n",
    "    print(\"ID for PLAYER:\", secondPlayer)\n",
    "    print(rows.iloc[0])\n",
    "else:\n",
    "    print(\"Player not found in the dataset.\")\n",
    "\n",
    "rows = matches.loc[matches[\"Player_2\"] == secondOpponent, \"opponentCode\"]\n",
    "if not rows.empty:\n",
    "    print(\"ID for OPPONENT:\", secondOpponent)\n",
    "    print(rows.iloc[0])\n",
    "else:\n",
    "    print(\"Player not found in the dataset.\")"
   ]
  },
  {
   "cell_type": "markdown",
   "id": "d0f15efa",
   "metadata": {
    "papermill": {
     "duration": 0.008656,
     "end_time": "2023-11-06T09:20:44.746209",
     "exception": false,
     "start_time": "2023-11-06T09:20:44.737553",
     "status": "completed"
    },
    "tags": []
   },
   "source": [
    "**Getting the first prediction**\n",
    "\n",
    "As soon as we know all the feature we need (predictors) we can use it to calculate the first prediction using the trained set. We will predict the result two times, where we will exchange the target from the first to the second player, if we get one win and one loose then we have more confidence on our prediction."
   ]
  },
  {
   "cell_type": "code",
   "execution_count": 9,
   "id": "3a8f5e78",
   "metadata": {
    "execution": {
     "iopub.execute_input": "2023-11-06T09:20:44.766638Z",
     "iopub.status.busy": "2023-11-06T09:20:44.765856Z",
     "iopub.status.idle": "2023-11-06T09:20:44.904376Z",
     "shell.execute_reply": "2023-11-06T09:20:44.903213Z"
    },
    "papermill": {
     "duration": 0.152561,
     "end_time": "2023-11-06T09:20:44.907780",
     "exception": false,
     "start_time": "2023-11-06T09:20:44.755219",
     "status": "completed"
    },
    "tags": []
   },
   "outputs": [
    {
     "name": "stdout",
     "output_type": "stream",
     "text": [
      "Shevchenko A. win result is: 1\n",
      "Bourgue M.. win result is: 0\n"
     ]
    },
    {
     "name": "stderr",
     "output_type": "stream",
     "text": [
      "/opt/conda/lib/python3.10/site-packages/sklearn/base.py:439: UserWarning: X does not have valid feature names, but RandomForestClassifier was fitted with feature names\n",
      "  warnings.warn(\n",
      "/opt/conda/lib/python3.10/site-packages/sklearn/base.py:439: UserWarning: X does not have valid feature names, but RandomForestClassifier was fitted with feature names\n",
      "  warnings.warn(\n"
     ]
    }
   ],
   "source": [
    "# First Data\n",
    "firstPlayerCode = 446\n",
    "firstOpponentCode = 1178\n",
    "firstPlayerRank = 59\n",
    "firstPlayerPoints = 860\n",
    "firstPlayerOdds = 2\n",
    "\n",
    "# Second Data\n",
    "secondPlayerCode = 1193\n",
    "secondOpponentCode = 437\n",
    "secondPlayerRank = 49\n",
    "secondPlayerPoints = 955\n",
    "secondPlayerOdds = 1.8\n",
    "\n",
    "firstData = {\n",
    "    \"playerCode\": firstPlayerCode,\n",
    "    \"opponentCode\": firstOpponentCode,\n",
    "    \"Rank_1\": firstPlayerRank, \n",
    "    \"Rank_2\": secondPlayerRank, \n",
    "    \"Pts_1\": firstPlayerPoints, \n",
    "    \"Pts_2\": secondPlayerPoints, \n",
    "    \"Odd_1\": firstPlayerOdds, \n",
    "    \"Odd_2\": secondPlayerOdds\n",
    "}\n",
    "\n",
    "secondData = {\n",
    "    \"playerCode\": secondPlayerCode,\n",
    "    \"opponentCode\": secondOpponentCode,\n",
    "    \"Rank_1\": secondPlayerRank, \n",
    "    \"Rank_2\": firstPlayerRank, \n",
    "    \"Pts_1\": secondPlayerPoints, \n",
    "    \"Pts_2\": firstPlayerPoints, \n",
    "    \"Odd_1\": secondPlayerOdds, \n",
    "    \"Odd_2\": firstPlayerOdds\n",
    "}\n",
    "\n",
    "# Make a prediction on the new data\n",
    "prediction = rf.predict([list(firstData.values())])\n",
    "print(f\"{firstPlayer} win result is: {prediction[0]}\")\n",
    "prediction = rf.predict([list(secondData.values())])\n",
    "print(f\"{secondPlayer} win result is: {prediction[0]}\")"
   ]
  },
  {
   "cell_type": "markdown",
   "id": "f970f2a9",
   "metadata": {
    "papermill": {
     "duration": 0.009468,
     "end_time": "2023-11-06T09:20:44.926642",
     "exception": false,
     "start_time": "2023-11-06T09:20:44.917174",
     "status": "completed"
    },
    "tags": []
   },
   "source": [
    "**Getting the players Features for the Second prediction**\n",
    "\n",
    "After we have all the predictors ready, we need to find out what's the actual ID of the player and the opponent, so that we can use those features to calculate our first prediction"
   ]
  },
  {
   "cell_type": "markdown",
   "id": "f7c7f4a4",
   "metadata": {
    "papermill": {
     "duration": 0.009346,
     "end_time": "2023-11-06T09:20:44.945315",
     "exception": false,
     "start_time": "2023-11-06T09:20:44.935969",
     "status": "completed"
    },
    "tags": []
   },
   "source": [
    "**Accuracy**\n",
    "\n",
    "Our first acccuracy is actually pretty good, but we have to remember that this accuracy isn't just the winning case accuracy, but it's going to reflect also the loose and draw case. We will have to chance the method of calculation for the accuracy"
   ]
  },
  {
   "cell_type": "code",
   "execution_count": 10,
   "id": "af1f2ed6",
   "metadata": {
    "execution": {
     "iopub.execute_input": "2023-11-06T09:20:44.965772Z",
     "iopub.status.busy": "2023-11-06T09:20:44.965350Z",
     "iopub.status.idle": "2023-11-06T09:20:45.489949Z",
     "shell.execute_reply": "2023-11-06T09:20:45.488684Z"
    },
    "papermill": {
     "duration": 0.540729,
     "end_time": "2023-11-06T09:20:45.495347",
     "exception": false,
     "start_time": "2023-11-06T09:20:44.954618",
     "status": "completed"
    },
    "tags": []
   },
   "outputs": [],
   "source": [
    "# Generate prediction, passing the test data and the predictors\n",
    "preds = rf.predict(test[predictors])\n",
    "\n",
    "# Need to describe the accuracy\n",
    "from sklearn.metrics import accuracy_score\n",
    "\n",
    "# Calculate the accuracy passing the test data, with the predictors and the prediction\n",
    "acc = accuracy_score(test[\"target\"], preds)"
   ]
  },
  {
   "cell_type": "code",
   "execution_count": 11,
   "id": "8a4e6c5a",
   "metadata": {
    "execution": {
     "iopub.execute_input": "2023-11-06T09:20:45.516331Z",
     "iopub.status.busy": "2023-11-06T09:20:45.515933Z",
     "iopub.status.idle": "2023-11-06T09:20:45.521923Z",
     "shell.execute_reply": "2023-11-06T09:20:45.520993Z"
    },
    "papermill": {
     "duration": 0.01922,
     "end_time": "2023-11-06T09:20:45.524329",
     "exception": false,
     "start_time": "2023-11-06T09:20:45.505109",
     "status": "completed"
    },
    "tags": []
   },
   "outputs": [
    {
     "data": {
      "text/plain": [
       "0.9107589658048374"
      ]
     },
     "execution_count": 11,
     "metadata": {},
     "output_type": "execute_result"
    }
   ],
   "source": [
    "acc"
   ]
  }
 ],
 "metadata": {
  "kernelspec": {
   "display_name": "Python 3",
   "language": "python",
   "name": "python3"
  },
  "language_info": {
   "codemirror_mode": {
    "name": "ipython",
    "version": 3
   },
   "file_extension": ".py",
   "mimetype": "text/x-python",
   "name": "python",
   "nbconvert_exporter": "python",
   "pygments_lexer": "ipython3",
   "version": "3.10.12"
  },
  "papermill": {
   "default_parameters": {},
   "duration": 116.062071,
   "end_time": "2023-11-06T09:20:46.257550",
   "environment_variables": {},
   "exception": null,
   "input_path": "__notebook__.ipynb",
   "output_path": "__notebook__.ipynb",
   "parameters": {},
   "start_time": "2023-11-06T09:18:50.195479",
   "version": "2.4.0"
  }
 },
 "nbformat": 4,
 "nbformat_minor": 5
}
